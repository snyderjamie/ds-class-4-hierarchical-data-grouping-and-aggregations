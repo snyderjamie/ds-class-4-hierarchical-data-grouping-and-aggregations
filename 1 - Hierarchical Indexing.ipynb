{
 "cells": [
  {
   "cell_type": "markdown",
   "metadata": {},
   "source": [
    "![rmotr](https://user-images.githubusercontent.com/7065401/39119486-4718e386-46ec-11e8-9fc3-5250a49ef570.png)\n",
    "<hr style=\"margin-bottom: 40px;\">\n",
    "\n",
    "<img src=\"https://user-images.githubusercontent.com/7065401/39119455-2f3eb97a-46ec-11e8-811d-04a491229648.jpg\"\n",
    "    style=\"width:300px; float: right; margin: 0 40px 40px 40px;\"></img>\n",
    "\n",
    "# Hierarchical Indexing\n",
    "\n",
    "[Examples of MultiIndexes](https://docs.google.com/spreadsheets/d/15cjM5XY3jQ4IHEUZA41IFLYCJoupMi_NYhBRKCjJroU/edit?usp=sharing)"
   ]
  },
  {
   "cell_type": "markdown",
   "metadata": {},
   "source": [
    "![separator2](https://user-images.githubusercontent.com/7065401/39119518-59fa51ce-46ec-11e8-8503-5f8136558f2b.png)\n",
    "\n",
    "## Hands on! "
   ]
  },
  {
   "cell_type": "code",
   "execution_count": 1,
   "metadata": {},
   "outputs": [],
   "source": [
    "import numpy as np\n",
    "import pandas as pd"
   ]
  },
  {
   "cell_type": "code",
   "execution_count": 2,
   "metadata": {},
   "outputs": [],
   "source": [
    "temps = pd.Series([\n",
    "    30.7,\n",
    "    29.6,\n",
    "    29.8,\n",
    "    30.8,\n",
    "    31.3,\n",
    "    29.2,\n",
    "    30.9,\n",
    "    31.4,\n",
    "    29.2,\n",
    "    29.9,\n",
    "    30.3,\n",
    "    30.7,\n",
    "    21.3,\n",
    "    21.7,\n",
    "    22.4,\n",
    "    21.2,\n",
    "    20.3,\n",
    "    21.8\n",
    "], index=[\n",
    "    ['NYC', 'NYC', 'NYC', 'NYC', 'NYC', 'NYC',\n",
    "     'TKY', 'TKY', 'TKY', 'TKY', 'TKY', 'TKY',\n",
    "     'SF', 'SF', 'SF', 'SF', 'SF', 'SF'],\n",
    "    [2012, 2013, 2014, 2015, 2016, 2017,\n",
    "     2012, 2013, 2014, 2015, 2016, 2017,\n",
    "     2012, 2013, 2014, 2015, 2016, 2017]\n",
    "], name='Max Temperatures')"
   ]
  },
  {
   "cell_type": "code",
   "execution_count": 3,
   "metadata": {
    "scrolled": true
   },
   "outputs": [
    {
     "data": {
      "text/plain": [
       "NYC  2012    30.7\n",
       "     2013    29.6\n",
       "     2014    29.8\n",
       "     2015    30.8\n",
       "     2016    31.3\n",
       "     2017    29.2\n",
       "TKY  2012    30.9\n",
       "     2013    31.4\n",
       "     2014    29.2\n",
       "     2015    29.9\n",
       "     2016    30.3\n",
       "     2017    30.7\n",
       "SF   2012    21.3\n",
       "     2013    21.7\n",
       "     2014    22.4\n",
       "     2015    21.2\n",
       "     2016    20.3\n",
       "     2017    21.8\n",
       "Name: Max Temperatures, dtype: float64"
      ]
     },
     "execution_count": 3,
     "metadata": {},
     "output_type": "execute_result"
    }
   ],
   "source": [
    "temps"
   ]
  },
  {
   "cell_type": "code",
   "execution_count": null,
   "metadata": {},
   "outputs": [],
   "source": [
    "# series can be multidemintional, because it can have mulitple indexes"
   ]
  },
  {
   "cell_type": "markdown",
   "metadata": {},
   "source": [
    "![separator1](https://user-images.githubusercontent.com/7065401/39119545-6d73d9aa-46ec-11e8-98d3-40204614f000.png)\n",
    "\n",
    "### Simple Selection and Slicing"
   ]
  },
  {
   "cell_type": "code",
   "execution_count": 4,
   "metadata": {},
   "outputs": [
    {
     "data": {
      "text/plain": [
       "2012    21.3\n",
       "2013    21.7\n",
       "2014    22.4\n",
       "2015    21.2\n",
       "2016    20.3\n",
       "2017    21.8\n",
       "Name: Max Temperatures, dtype: float64"
      ]
     },
     "execution_count": 4,
     "metadata": {},
     "output_type": "execute_result"
    }
   ],
   "source": [
    "temps['SF']"
   ]
  },
  {
   "cell_type": "code",
   "execution_count": 5,
   "metadata": {
    "scrolled": true
   },
   "outputs": [
    {
     "data": {
      "text/plain": [
       "20.3"
      ]
     },
     "execution_count": 5,
     "metadata": {},
     "output_type": "execute_result"
    }
   ],
   "source": [
    "#mulpilte keys, so seperate by commons\n",
    "temps['SF', 2016]"
   ]
  },
  {
   "cell_type": "code",
   "execution_count": 6,
   "metadata": {
    "scrolled": false
   },
   "outputs": [
    {
     "data": {
      "text/plain": [
       "2012    21.3\n",
       "2013    21.7\n",
       "2014    22.4\n",
       "2015    21.2\n",
       "Name: Max Temperatures, dtype: float64"
      ]
     },
     "execution_count": 6,
     "metadata": {},
     "output_type": "execute_result"
    }
   ],
   "source": [
    "temps['SF'].loc[2012:2015]"
   ]
  },
  {
   "cell_type": "markdown",
   "metadata": {},
   "source": [
    "Traditional slicing withing the multi-indexed series is possible, only if **the index is sorted:**"
   ]
  },
  {
   "cell_type": "code",
   "execution_count": 6,
   "metadata": {
    "scrolled": true
   },
   "outputs": [
    {
     "data": {
      "text/plain": [
       "NYC  2012    30.7\n",
       "     2013    29.6\n",
       "     2014    29.8\n",
       "     2015    30.8\n",
       "     2016    31.3\n",
       "     2017    29.2\n",
       "SF   2012    21.3\n",
       "     2013    21.7\n",
       "     2014    22.4\n",
       "     2015    21.2\n",
       "     2016    20.3\n",
       "     2017    21.8\n",
       "TKY  2012    30.9\n",
       "     2013    31.4\n",
       "     2014    29.2\n",
       "     2015    29.9\n",
       "     2016    30.3\n",
       "     2017    30.7\n",
       "Name: Max Temperatures, dtype: float64"
      ]
     },
     "execution_count": 6,
     "metadata": {},
     "output_type": "execute_result"
    }
   ],
   "source": [
    "temps.sort_index(inplace=True)\n",
    "temps"
   ]
  },
  {
   "cell_type": "code",
   "execution_count": 8,
   "metadata": {},
   "outputs": [
    {
     "data": {
      "text/plain": [
       "NYC  2012    30.7\n",
       "     2013    29.6\n",
       "     2014    29.8\n",
       "     2015    30.8\n",
       "SF   2012    21.3\n",
       "     2013    21.7\n",
       "     2014    22.4\n",
       "     2015    21.2\n",
       "Name: Max Temperatures, dtype: float64"
      ]
     },
     "execution_count": 8,
     "metadata": {},
     "output_type": "execute_result"
    }
   ],
   "source": [
    "temps.loc['NYC':'SF', 2012:2015]"
   ]
  },
  {
   "cell_type": "markdown",
   "metadata": {},
   "source": [
    "The index of our series is of type `MultiIndex`:"
   ]
  },
  {
   "cell_type": "code",
   "execution_count": 8,
   "metadata": {
    "scrolled": true
   },
   "outputs": [
    {
     "data": {
      "text/plain": [
       "MultiIndex(levels=[['NYC', 'SF', 'TKY'], [2012, 2013, 2014, 2015, 2016, 2017]],\n",
       "           labels=[[0, 0, 0, 0, 0, 0, 1, 1, 1, 1, 1, 1, 2, 2, 2, 2, 2, 2], [0, 1, 2, 3, 4, 5, 0, 1, 2, 3, 4, 5, 0, 1, 2, 3, 4, 5]])"
      ]
     },
     "execution_count": 8,
     "metadata": {},
     "output_type": "execute_result"
    }
   ],
   "source": [
    "# this showes that it is not repeating data, aka 3x 2012,\n",
    "# because that would be a waste of data\n",
    "temps.index"
   ]
  },
  {
   "cell_type": "markdown",
   "metadata": {},
   "source": [
    "We can create these indexes with several methods, for example:"
   ]
  },
  {
   "cell_type": "code",
   "execution_count": 9,
   "metadata": {},
   "outputs": [],
   "source": [
    "index = pd.MultiIndex.from_product([['NYC', 'TKY', 'SF'], [2012, 2013, 2014, 2015, 2016, 2017,]])"
   ]
  },
  {
   "cell_type": "code",
   "execution_count": 10,
   "metadata": {},
   "outputs": [],
   "source": [
    "temps2 = pd.Series([\n",
    "    30.7,\n",
    "    29.6,\n",
    "    29.8,\n",
    "    30.8,\n",
    "    31.3,\n",
    "    29.2,\n",
    "    30.9,\n",
    "    31.4,\n",
    "    29.2,\n",
    "    29.9,\n",
    "    30.3,\n",
    "    30.7,\n",
    "    21.3,\n",
    "    21.7,\n",
    "    22.4,\n",
    "    21.2,\n",
    "    20.3,\n",
    "    21.8\n",
    "], index=index, name='Max Temperatures')"
   ]
  },
  {
   "cell_type": "code",
   "execution_count": 11,
   "metadata": {},
   "outputs": [
    {
     "data": {
      "text/plain": [
       "NYC  2012    30.7\n",
       "     2013    29.6\n",
       "     2014    29.8\n",
       "     2015    30.8\n",
       "     2016    31.3\n",
       "     2017    29.2\n",
       "TKY  2012    30.9\n",
       "     2013    31.4\n",
       "     2014    29.2\n",
       "     2015    29.9\n",
       "     2016    30.3\n",
       "     2017    30.7\n",
       "SF   2012    21.3\n",
       "     2013    21.7\n",
       "     2014    22.4\n",
       "     2015    21.2\n",
       "     2016    20.3\n",
       "     2017    21.8\n",
       "Name: Max Temperatures, dtype: float64"
      ]
     },
     "execution_count": 11,
     "metadata": {},
     "output_type": "execute_result"
    }
   ],
   "source": [
    "temps2"
   ]
  },
  {
   "cell_type": "code",
   "execution_count": 12,
   "metadata": {},
   "outputs": [],
   "source": [
    "temps2.sort_index(inplace=True)"
   ]
  },
  {
   "cell_type": "code",
   "execution_count": 13,
   "metadata": {},
   "outputs": [
    {
     "data": {
      "text/plain": [
       "True"
      ]
     },
     "execution_count": 13,
     "metadata": {},
     "output_type": "execute_result"
    }
   ],
   "source": [
    "temps.equals(temps2)"
   ]
  },
  {
   "cell_type": "markdown",
   "metadata": {},
   "source": [
    "Each \"index\" in a MultiIndex is called a \"level\", and each level can have a name:"
   ]
  },
  {
   "cell_type": "code",
   "execution_count": 14,
   "metadata": {},
   "outputs": [],
   "source": [
    "temps.index.names = ['City', 'Year']"
   ]
  },
  {
   "cell_type": "code",
   "execution_count": 15,
   "metadata": {},
   "outputs": [
    {
     "data": {
      "text/plain": [
       "City  Year\n",
       "NYC   2012    30.7\n",
       "      2013    29.6\n",
       "      2014    29.8\n",
       "      2015    30.8\n",
       "      2016    31.3\n",
       "      2017    29.2\n",
       "SF    2012    21.3\n",
       "      2013    21.7\n",
       "      2014    22.4\n",
       "      2015    21.2\n",
       "      2016    20.3\n",
       "      2017    21.8\n",
       "TKY   2012    30.9\n",
       "      2013    31.4\n",
       "      2014    29.2\n",
       "      2015    29.9\n",
       "      2016    30.3\n",
       "      2017    30.7\n",
       "Name: Max Temperatures, dtype: float64"
      ]
     },
     "execution_count": 15,
     "metadata": {},
     "output_type": "execute_result"
    }
   ],
   "source": [
    "temps"
   ]
  },
  {
   "cell_type": "markdown",
   "metadata": {},
   "source": [
    "If you pay attention, the same data could have been structured as a DataFrame. It turns out, that both structures are related and you can go from one to the other with the `unstack` and `stack` methods:"
   ]
  },
  {
   "cell_type": "code",
   "execution_count": 16,
   "metadata": {
    "scrolled": true
   },
   "outputs": [
    {
     "data": {
      "text/html": [
       "<div>\n",
       "<style scoped>\n",
       "    .dataframe tbody tr th:only-of-type {\n",
       "        vertical-align: middle;\n",
       "    }\n",
       "\n",
       "    .dataframe tbody tr th {\n",
       "        vertical-align: top;\n",
       "    }\n",
       "\n",
       "    .dataframe thead th {\n",
       "        text-align: right;\n",
       "    }\n",
       "</style>\n",
       "<table border=\"1\" class=\"dataframe\">\n",
       "  <thead>\n",
       "    <tr style=\"text-align: right;\">\n",
       "      <th>Year</th>\n",
       "      <th>2012</th>\n",
       "      <th>2013</th>\n",
       "      <th>2014</th>\n",
       "      <th>2015</th>\n",
       "      <th>2016</th>\n",
       "      <th>2017</th>\n",
       "    </tr>\n",
       "    <tr>\n",
       "      <th>City</th>\n",
       "      <th></th>\n",
       "      <th></th>\n",
       "      <th></th>\n",
       "      <th></th>\n",
       "      <th></th>\n",
       "      <th></th>\n",
       "    </tr>\n",
       "  </thead>\n",
       "  <tbody>\n",
       "    <tr>\n",
       "      <th>NYC</th>\n",
       "      <td>30.7</td>\n",
       "      <td>29.6</td>\n",
       "      <td>29.8</td>\n",
       "      <td>30.8</td>\n",
       "      <td>31.3</td>\n",
       "      <td>29.2</td>\n",
       "    </tr>\n",
       "    <tr>\n",
       "      <th>SF</th>\n",
       "      <td>21.3</td>\n",
       "      <td>21.7</td>\n",
       "      <td>22.4</td>\n",
       "      <td>21.2</td>\n",
       "      <td>20.3</td>\n",
       "      <td>21.8</td>\n",
       "    </tr>\n",
       "    <tr>\n",
       "      <th>TKY</th>\n",
       "      <td>30.9</td>\n",
       "      <td>31.4</td>\n",
       "      <td>29.2</td>\n",
       "      <td>29.9</td>\n",
       "      <td>30.3</td>\n",
       "      <td>30.7</td>\n",
       "    </tr>\n",
       "  </tbody>\n",
       "</table>\n",
       "</div>"
      ],
      "text/plain": [
       "Year  2012  2013  2014  2015  2016  2017\n",
       "City                                    \n",
       "NYC   30.7  29.6  29.8  30.8  31.3  29.2\n",
       "SF    21.3  21.7  22.4  21.2  20.3  21.8\n",
       "TKY   30.9  31.4  29.2  29.9  30.3  30.7"
      ]
     },
     "execution_count": 16,
     "metadata": {},
     "output_type": "execute_result"
    }
   ],
   "source": [
    "temps.unstack()"
   ]
  },
  {
   "cell_type": "code",
   "execution_count": 17,
   "metadata": {
    "scrolled": true
   },
   "outputs": [
    {
     "data": {
      "text/html": [
       "<div>\n",
       "<style scoped>\n",
       "    .dataframe tbody tr th:only-of-type {\n",
       "        vertical-align: middle;\n",
       "    }\n",
       "\n",
       "    .dataframe tbody tr th {\n",
       "        vertical-align: top;\n",
       "    }\n",
       "\n",
       "    .dataframe thead th {\n",
       "        text-align: right;\n",
       "    }\n",
       "</style>\n",
       "<table border=\"1\" class=\"dataframe\">\n",
       "  <thead>\n",
       "    <tr style=\"text-align: right;\">\n",
       "      <th>City</th>\n",
       "      <th>NYC</th>\n",
       "      <th>SF</th>\n",
       "      <th>TKY</th>\n",
       "    </tr>\n",
       "    <tr>\n",
       "      <th>Year</th>\n",
       "      <th></th>\n",
       "      <th></th>\n",
       "      <th></th>\n",
       "    </tr>\n",
       "  </thead>\n",
       "  <tbody>\n",
       "    <tr>\n",
       "      <th>2012</th>\n",
       "      <td>30.7</td>\n",
       "      <td>21.3</td>\n",
       "      <td>30.9</td>\n",
       "    </tr>\n",
       "    <tr>\n",
       "      <th>2013</th>\n",
       "      <td>29.6</td>\n",
       "      <td>21.7</td>\n",
       "      <td>31.4</td>\n",
       "    </tr>\n",
       "    <tr>\n",
       "      <th>2014</th>\n",
       "      <td>29.8</td>\n",
       "      <td>22.4</td>\n",
       "      <td>29.2</td>\n",
       "    </tr>\n",
       "    <tr>\n",
       "      <th>2015</th>\n",
       "      <td>30.8</td>\n",
       "      <td>21.2</td>\n",
       "      <td>29.9</td>\n",
       "    </tr>\n",
       "    <tr>\n",
       "      <th>2016</th>\n",
       "      <td>31.3</td>\n",
       "      <td>20.3</td>\n",
       "      <td>30.3</td>\n",
       "    </tr>\n",
       "    <tr>\n",
       "      <th>2017</th>\n",
       "      <td>29.2</td>\n",
       "      <td>21.8</td>\n",
       "      <td>30.7</td>\n",
       "    </tr>\n",
       "  </tbody>\n",
       "</table>\n",
       "</div>"
      ],
      "text/plain": [
       "City   NYC    SF   TKY\n",
       "Year                  \n",
       "2012  30.7  21.3  30.9\n",
       "2013  29.6  21.7  31.4\n",
       "2014  29.8  22.4  29.2\n",
       "2015  30.8  21.2  29.9\n",
       "2016  31.3  20.3  30.3\n",
       "2017  29.2  21.8  30.7"
      ]
     },
     "execution_count": 17,
     "metadata": {},
     "output_type": "execute_result"
    }
   ],
   "source": [
    "temps.unstack(level=0)"
   ]
  },
  {
   "cell_type": "markdown",
   "metadata": {},
   "source": [
    "The `stack()` methods constructs the MultiIndexed Series again:"
   ]
  },
  {
   "cell_type": "code",
   "execution_count": 18,
   "metadata": {},
   "outputs": [
    {
     "data": {
      "text/plain": [
       "City  Year\n",
       "NYC   2012    30.7\n",
       "      2013    29.6\n",
       "      2014    29.8\n",
       "      2015    30.8\n",
       "      2016    31.3\n",
       "      2017    29.2\n",
       "SF    2012    21.3\n",
       "      2013    21.7\n",
       "      2014    22.4\n",
       "      2015    21.2\n",
       "      2016    20.3\n",
       "      2017    21.8\n",
       "TKY   2012    30.9\n",
       "      2013    31.4\n",
       "      2014    29.2\n",
       "      2015    29.9\n",
       "      2016    30.3\n",
       "      2017    30.7\n",
       "dtype: float64"
      ]
     },
     "execution_count": 18,
     "metadata": {},
     "output_type": "execute_result"
    }
   ],
   "source": [
    "temps.unstack().stack()"
   ]
  },
  {
   "cell_type": "code",
   "execution_count": 19,
   "metadata": {},
   "outputs": [
    {
     "data": {
      "text/plain": [
       "Year  City\n",
       "2012  NYC     30.7\n",
       "      SF      21.3\n",
       "      TKY     30.9\n",
       "2013  NYC     29.6\n",
       "      SF      21.7\n",
       "      TKY     31.4\n",
       "2014  NYC     29.8\n",
       "      SF      22.4\n",
       "      TKY     29.2\n",
       "2015  NYC     30.8\n",
       "      SF      21.2\n",
       "      TKY     29.9\n",
       "2016  NYC     31.3\n",
       "      SF      20.3\n",
       "      TKY     30.3\n",
       "2017  NYC     29.2\n",
       "      SF      21.8\n",
       "      TKY     30.7\n",
       "dtype: float64"
      ]
     },
     "execution_count": 19,
     "metadata": {},
     "output_type": "execute_result"
    }
   ],
   "source": [
    "temps.unstack(level=0).stack()"
   ]
  },
  {
   "cell_type": "markdown",
   "metadata": {},
   "source": [
    "![separator1](https://user-images.githubusercontent.com/7065401/39119545-6d73d9aa-46ec-11e8-98d3-40204614f000.png)\n",
    "\n",
    "### MultiIndexed DataFrames\n",
    "\n",
    "It's also perfectly valid to construct a MultiIndexed DataFrame:"
   ]
  },
  {
   "cell_type": "code",
   "execution_count": 21,
   "metadata": {},
   "outputs": [],
   "source": [
    "s = \"\"\"\n",
    "-3.9\n",
    "-3.6\n",
    "-4.5\n",
    "-5\n",
    "-5.8\n",
    "-4.2\n",
    "0.7\n",
    "1.1\n",
    "0.2\n",
    "-0.5\n",
    "-1.2\n",
    "0.8\n",
    "5.8\n",
    "6.6\n",
    "4.9\n",
    "6.4\n",
    "5.5\n",
    "7.2\"\"\""
   ]
  },
  {
   "cell_type": "code",
   "execution_count": 22,
   "metadata": {},
   "outputs": [
    {
     "data": {
      "text/plain": [
       "[-3.9,\n",
       " -3.6,\n",
       " -4.5,\n",
       " -5.0,\n",
       " -5.8,\n",
       " -4.2,\n",
       " 0.7,\n",
       " 1.1,\n",
       " 0.2,\n",
       " -0.5,\n",
       " -1.2,\n",
       " 0.8,\n",
       " 5.8,\n",
       " 6.6,\n",
       " 4.9,\n",
       " 6.4,\n",
       " 5.5,\n",
       " 7.2]"
      ]
     },
     "execution_count": 22,
     "metadata": {},
     "output_type": "execute_result"
    }
   ],
   "source": [
    "[float(v) for v in s.split('\\n') if v]"
   ]
  },
  {
   "cell_type": "code",
   "execution_count": 23,
   "metadata": {},
   "outputs": [],
   "source": [
    "df = pd.DataFrame({\n",
    "    'Max Temperatures': [\n",
    "        30.7,\n",
    "        29.6,\n",
    "        29.8,\n",
    "        30.8,\n",
    "        31.3,\n",
    "        29.2,\n",
    "        30.9,\n",
    "        31.4,\n",
    "        29.2,\n",
    "        29.9,\n",
    "        30.3,\n",
    "        30.7,\n",
    "        21.3,\n",
    "        21.7,\n",
    "        22.4,\n",
    "        21.2,\n",
    "        20.3,\n",
    "        21.8\n",
    "    ],\n",
    "    'Min Temperatures': [\n",
    "        -3.9,\n",
    "        -3.6,\n",
    "        -4.5,\n",
    "        -5.0,\n",
    "        -5.8,\n",
    "        -4.2,\n",
    "        0.7,\n",
    "        1.1,\n",
    "        0.2,\n",
    "        -0.5,\n",
    "        -1.2,\n",
    "        0.8,\n",
    "        5.8,\n",
    "        6.6,\n",
    "        4.9,\n",
    "        6.4,\n",
    "        5.5,\n",
    "        7.2\n",
    "    ]\n",
    "}, index=[\n",
    "    ['NYC', 'NYC', 'NYC', 'NYC', 'NYC', 'NYC',\n",
    "     'TKY', 'TKY', 'TKY', 'TKY', 'TKY', 'TKY',\n",
    "     'SF', 'SF', 'SF', 'SF', 'SF', 'SF'],\n",
    "    [2012, 2013, 2014, 2015, 2016, 2017,\n",
    "     2012, 2013, 2014, 2015, 2016, 2017,\n",
    "     2012, 2013, 2014, 2015, 2016, 2017]\n",
    "])"
   ]
  },
  {
   "cell_type": "code",
   "execution_count": 24,
   "metadata": {},
   "outputs": [
    {
     "data": {
      "text/html": [
       "<div>\n",
       "<style scoped>\n",
       "    .dataframe tbody tr th:only-of-type {\n",
       "        vertical-align: middle;\n",
       "    }\n",
       "\n",
       "    .dataframe tbody tr th {\n",
       "        vertical-align: top;\n",
       "    }\n",
       "\n",
       "    .dataframe thead th {\n",
       "        text-align: right;\n",
       "    }\n",
       "</style>\n",
       "<table border=\"1\" class=\"dataframe\">\n",
       "  <thead>\n",
       "    <tr style=\"text-align: right;\">\n",
       "      <th></th>\n",
       "      <th></th>\n",
       "      <th>Max Temperatures</th>\n",
       "      <th>Min Temperatures</th>\n",
       "    </tr>\n",
       "  </thead>\n",
       "  <tbody>\n",
       "    <tr>\n",
       "      <th rowspan=\"6\" valign=\"top\">NYC</th>\n",
       "      <th>2012</th>\n",
       "      <td>30.7</td>\n",
       "      <td>-3.9</td>\n",
       "    </tr>\n",
       "    <tr>\n",
       "      <th>2013</th>\n",
       "      <td>29.6</td>\n",
       "      <td>-3.6</td>\n",
       "    </tr>\n",
       "    <tr>\n",
       "      <th>2014</th>\n",
       "      <td>29.8</td>\n",
       "      <td>-4.5</td>\n",
       "    </tr>\n",
       "    <tr>\n",
       "      <th>2015</th>\n",
       "      <td>30.8</td>\n",
       "      <td>-5.0</td>\n",
       "    </tr>\n",
       "    <tr>\n",
       "      <th>2016</th>\n",
       "      <td>31.3</td>\n",
       "      <td>-5.8</td>\n",
       "    </tr>\n",
       "    <tr>\n",
       "      <th>2017</th>\n",
       "      <td>29.2</td>\n",
       "      <td>-4.2</td>\n",
       "    </tr>\n",
       "    <tr>\n",
       "      <th rowspan=\"6\" valign=\"top\">TKY</th>\n",
       "      <th>2012</th>\n",
       "      <td>30.9</td>\n",
       "      <td>0.7</td>\n",
       "    </tr>\n",
       "    <tr>\n",
       "      <th>2013</th>\n",
       "      <td>31.4</td>\n",
       "      <td>1.1</td>\n",
       "    </tr>\n",
       "    <tr>\n",
       "      <th>2014</th>\n",
       "      <td>29.2</td>\n",
       "      <td>0.2</td>\n",
       "    </tr>\n",
       "    <tr>\n",
       "      <th>2015</th>\n",
       "      <td>29.9</td>\n",
       "      <td>-0.5</td>\n",
       "    </tr>\n",
       "    <tr>\n",
       "      <th>2016</th>\n",
       "      <td>30.3</td>\n",
       "      <td>-1.2</td>\n",
       "    </tr>\n",
       "    <tr>\n",
       "      <th>2017</th>\n",
       "      <td>30.7</td>\n",
       "      <td>0.8</td>\n",
       "    </tr>\n",
       "    <tr>\n",
       "      <th rowspan=\"6\" valign=\"top\">SF</th>\n",
       "      <th>2012</th>\n",
       "      <td>21.3</td>\n",
       "      <td>5.8</td>\n",
       "    </tr>\n",
       "    <tr>\n",
       "      <th>2013</th>\n",
       "      <td>21.7</td>\n",
       "      <td>6.6</td>\n",
       "    </tr>\n",
       "    <tr>\n",
       "      <th>2014</th>\n",
       "      <td>22.4</td>\n",
       "      <td>4.9</td>\n",
       "    </tr>\n",
       "    <tr>\n",
       "      <th>2015</th>\n",
       "      <td>21.2</td>\n",
       "      <td>6.4</td>\n",
       "    </tr>\n",
       "    <tr>\n",
       "      <th>2016</th>\n",
       "      <td>20.3</td>\n",
       "      <td>5.5</td>\n",
       "    </tr>\n",
       "    <tr>\n",
       "      <th>2017</th>\n",
       "      <td>21.8</td>\n",
       "      <td>7.2</td>\n",
       "    </tr>\n",
       "  </tbody>\n",
       "</table>\n",
       "</div>"
      ],
      "text/plain": [
       "          Max Temperatures  Min Temperatures\n",
       "NYC 2012              30.7              -3.9\n",
       "    2013              29.6              -3.6\n",
       "    2014              29.8              -4.5\n",
       "    2015              30.8              -5.0\n",
       "    2016              31.3              -5.8\n",
       "    2017              29.2              -4.2\n",
       "TKY 2012              30.9               0.7\n",
       "    2013              31.4               1.1\n",
       "    2014              29.2               0.2\n",
       "    2015              29.9              -0.5\n",
       "    2016              30.3              -1.2\n",
       "    2017              30.7               0.8\n",
       "SF  2012              21.3               5.8\n",
       "    2013              21.7               6.6\n",
       "    2014              22.4               4.9\n",
       "    2015              21.2               6.4\n",
       "    2016              20.3               5.5\n",
       "    2017              21.8               7.2"
      ]
     },
     "execution_count": 24,
     "metadata": {},
     "output_type": "execute_result"
    }
   ],
   "source": [
    "df"
   ]
  },
  {
   "cell_type": "code",
   "execution_count": 25,
   "metadata": {},
   "outputs": [],
   "source": [
    "df.sort_index(inplace=True)"
   ]
  },
  {
   "cell_type": "code",
   "execution_count": 26,
   "metadata": {
    "scrolled": true
   },
   "outputs": [
    {
     "data": {
      "text/html": [
       "<div>\n",
       "<style scoped>\n",
       "    .dataframe tbody tr th:only-of-type {\n",
       "        vertical-align: middle;\n",
       "    }\n",
       "\n",
       "    .dataframe tbody tr th {\n",
       "        vertical-align: top;\n",
       "    }\n",
       "\n",
       "    .dataframe thead th {\n",
       "        text-align: right;\n",
       "    }\n",
       "</style>\n",
       "<table border=\"1\" class=\"dataframe\">\n",
       "  <thead>\n",
       "    <tr style=\"text-align: right;\">\n",
       "      <th></th>\n",
       "      <th>Max Temperatures</th>\n",
       "      <th>Min Temperatures</th>\n",
       "    </tr>\n",
       "  </thead>\n",
       "  <tbody>\n",
       "    <tr>\n",
       "      <th>2012</th>\n",
       "      <td>30.7</td>\n",
       "      <td>-3.9</td>\n",
       "    </tr>\n",
       "    <tr>\n",
       "      <th>2013</th>\n",
       "      <td>29.6</td>\n",
       "      <td>-3.6</td>\n",
       "    </tr>\n",
       "    <tr>\n",
       "      <th>2014</th>\n",
       "      <td>29.8</td>\n",
       "      <td>-4.5</td>\n",
       "    </tr>\n",
       "    <tr>\n",
       "      <th>2015</th>\n",
       "      <td>30.8</td>\n",
       "      <td>-5.0</td>\n",
       "    </tr>\n",
       "    <tr>\n",
       "      <th>2016</th>\n",
       "      <td>31.3</td>\n",
       "      <td>-5.8</td>\n",
       "    </tr>\n",
       "    <tr>\n",
       "      <th>2017</th>\n",
       "      <td>29.2</td>\n",
       "      <td>-4.2</td>\n",
       "    </tr>\n",
       "  </tbody>\n",
       "</table>\n",
       "</div>"
      ],
      "text/plain": [
       "      Max Temperatures  Min Temperatures\n",
       "2012              30.7              -3.9\n",
       "2013              29.6              -3.6\n",
       "2014              29.8              -4.5\n",
       "2015              30.8              -5.0\n",
       "2016              31.3              -5.8\n",
       "2017              29.2              -4.2"
      ]
     },
     "execution_count": 26,
     "metadata": {},
     "output_type": "execute_result"
    }
   ],
   "source": [
    "df.loc['NYC']"
   ]
  },
  {
   "cell_type": "code",
   "execution_count": 27,
   "metadata": {
    "scrolled": false
   },
   "outputs": [
    {
     "data": {
      "text/plain": [
       "2012    30.7\n",
       "2013    29.6\n",
       "2014    29.8\n",
       "2015    30.8\n",
       "2016    31.3\n",
       "2017    29.2\n",
       "Name: Max Temperatures, dtype: float64"
      ]
     },
     "execution_count": 27,
     "metadata": {},
     "output_type": "execute_result"
    }
   ],
   "source": [
    "df.loc['NYC', 'Max Temperatures']"
   ]
  },
  {
   "cell_type": "code",
   "execution_count": 28,
   "metadata": {
    "scrolled": true
   },
   "outputs": [
    {
     "data": {
      "text/plain": [
       "NYC  2012    30.7\n",
       "     2015    30.8\n",
       "Name: Max Temperatures, dtype: float64"
      ]
     },
     "execution_count": 28,
     "metadata": {},
     "output_type": "execute_result"
    }
   ],
   "source": [
    "df.loc[('NYC', (2012, 2015)), 'Max Temperatures']"
   ]
  },
  {
   "cell_type": "markdown",
   "metadata": {},
   "source": [
    "More complex slicing needs to be performed with the [`IndexSlice`](https://pandas.pydata.org/pandas-docs/stable/generated/pandas.IndexSlice.html) constructor from pandas or the [`slice`](https://docs.python.org/3/library/functions.html#slice) builtin function."
   ]
  },
  {
   "cell_type": "code",
   "execution_count": 29,
   "metadata": {
    "scrolled": true
   },
   "outputs": [
    {
     "data": {
      "text/plain": [
       "NYC  2012    30.7\n",
       "     2013    29.6\n",
       "     2014    29.8\n",
       "     2015    30.8\n",
       "Name: Max Temperatures, dtype: float64"
      ]
     },
     "execution_count": 29,
     "metadata": {},
     "output_type": "execute_result"
    }
   ],
   "source": [
    "df.loc[('NYC', slice(2012, 2015)), 'Max Temperatures']"
   ]
  },
  {
   "cell_type": "code",
   "execution_count": 30,
   "metadata": {
    "scrolled": false
   },
   "outputs": [
    {
     "data": {
      "text/plain": [
       "NYC  2012    30.7\n",
       "     2013    29.6\n",
       "     2014    29.8\n",
       "     2015    30.8\n",
       "Name: Max Temperatures, dtype: float64"
      ]
     },
     "execution_count": 30,
     "metadata": {},
     "output_type": "execute_result"
    }
   ],
   "source": [
    "df.loc[pd.IndexSlice['NYC', 2012: 2015], 'Max Temperatures']"
   ]
  },
  {
   "cell_type": "code",
   "execution_count": 31,
   "metadata": {
    "scrolled": true
   },
   "outputs": [
    {
     "data": {
      "text/plain": [
       "NYC  2012    30.7\n",
       "     2013    29.6\n",
       "     2014    29.8\n",
       "     2015    30.8\n",
       "SF   2012    21.3\n",
       "     2013    21.7\n",
       "     2014    22.4\n",
       "     2015    21.2\n",
       "Name: Max Temperatures, dtype: float64"
      ]
     },
     "execution_count": 31,
     "metadata": {},
     "output_type": "execute_result"
    }
   ],
   "source": [
    "df.loc[(slice('NYC', 'SF'), slice(2012, 2015)), 'Max Temperatures']"
   ]
  },
  {
   "cell_type": "code",
   "execution_count": 32,
   "metadata": {
    "scrolled": false
   },
   "outputs": [
    {
     "data": {
      "text/plain": [
       "NYC  2012    30.7\n",
       "     2013    29.6\n",
       "     2014    29.8\n",
       "     2015    30.8\n",
       "SF   2012    21.3\n",
       "     2013    21.7\n",
       "     2014    22.4\n",
       "     2015    21.2\n",
       "Name: Max Temperatures, dtype: float64"
      ]
     },
     "execution_count": 32,
     "metadata": {},
     "output_type": "execute_result"
    }
   ],
   "source": [
    "df.loc[pd.IndexSlice['NYC': 'SF', 2012: 2015], 'Max Temperatures']"
   ]
  },
  {
   "cell_type": "markdown",
   "metadata": {},
   "source": [
    "![separator1](https://user-images.githubusercontent.com/7065401/39119545-6d73d9aa-46ec-11e8-98d3-40204614f000.png)\n",
    "\n",
    "### MultiIndex and MultiColumns DataFrames\n",
    "\n",
    "DataFrames can also have multiple columns:"
   ]
  },
  {
   "cell_type": "code",
   "execution_count": 20,
   "metadata": {
    "scrolled": true
   },
   "outputs": [
    {
     "data": {
      "text/html": [
       "<div>\n",
       "<style scoped>\n",
       "    .dataframe tbody tr th:only-of-type {\n",
       "        vertical-align: middle;\n",
       "    }\n",
       "\n",
       "    .dataframe tbody tr th {\n",
       "        vertical-align: top;\n",
       "    }\n",
       "\n",
       "    .dataframe thead tr th {\n",
       "        text-align: left;\n",
       "    }\n",
       "</style>\n",
       "<table border=\"1\" class=\"dataframe\">\n",
       "  <thead>\n",
       "    <tr>\n",
       "      <th></th>\n",
       "      <th></th>\n",
       "      <th colspan=\"2\" halign=\"left\">Temperatures</th>\n",
       "      <th colspan=\"2\" halign=\"left\">Humidity</th>\n",
       "    </tr>\n",
       "    <tr>\n",
       "      <th></th>\n",
       "      <th></th>\n",
       "      <th>Max Temperature</th>\n",
       "      <th>Min Temperature</th>\n",
       "      <th>Max Humidity</th>\n",
       "      <th>Min Humidity</th>\n",
       "    </tr>\n",
       "  </thead>\n",
       "  <tbody>\n",
       "    <tr>\n",
       "      <th rowspan=\"2\" valign=\"top\">NYC</th>\n",
       "      <th>2016</th>\n",
       "      <td>0.581630</td>\n",
       "      <td>-0.382100</td>\n",
       "      <td>-0.120277</td>\n",
       "      <td>-0.182476</td>\n",
       "    </tr>\n",
       "    <tr>\n",
       "      <th>2017</th>\n",
       "      <td>0.619626</td>\n",
       "      <td>1.026001</td>\n",
       "      <td>1.195437</td>\n",
       "      <td>-0.722040</td>\n",
       "    </tr>\n",
       "    <tr>\n",
       "      <th rowspan=\"2\" valign=\"top\">SF</th>\n",
       "      <th>2016</th>\n",
       "      <td>0.815296</td>\n",
       "      <td>0.162034</td>\n",
       "      <td>0.256600</td>\n",
       "      <td>0.390200</td>\n",
       "    </tr>\n",
       "    <tr>\n",
       "      <th>2017</th>\n",
       "      <td>-1.174726</td>\n",
       "      <td>0.756580</td>\n",
       "      <td>-0.845335</td>\n",
       "      <td>-1.737100</td>\n",
       "    </tr>\n",
       "  </tbody>\n",
       "</table>\n",
       "</div>"
      ],
      "text/plain": [
       "            Temperatures                     Humidity             \n",
       "         Max Temperature Min Temperature Max Humidity Min Humidity\n",
       "NYC 2016        0.581630       -0.382100    -0.120277    -0.182476\n",
       "    2017        0.619626        1.026001     1.195437    -0.722040\n",
       "SF  2016        0.815296        0.162034     0.256600     0.390200\n",
       "    2017       -1.174726        0.756580    -0.845335    -1.737100"
      ]
     },
     "execution_count": 20,
     "metadata": {},
     "output_type": "execute_result"
    }
   ],
   "source": [
    "df = pd.DataFrame(\n",
    "    np.random.randn(4, 4),\n",
    "    index=[['NYC', 'NYC', 'SF', 'SF'], [2016, 2017, 2016, 2017]],\n",
    "    columns=[\n",
    "        ['Temperatures', 'Temperatures', 'Humidity', 'Humidity'],\n",
    "        ['Max Temperature', 'Min Temperature', 'Max Humidity', 'Min Humidity']\n",
    "    ]\n",
    ")\n",
    "df"
   ]
  },
  {
   "cell_type": "code",
   "execution_count": 25,
   "metadata": {},
   "outputs": [
    {
     "data": {
      "text/plain": [
       "MultiIndex(levels=[['Humidity', 'Temperatures'], ['Max Humidity', 'Max Temperature', 'Min Humidity', 'Min Temperature']],\n",
       "           labels=[[1, 1, 0, 0], [1, 3, 0, 2]])"
      ]
     },
     "execution_count": 25,
     "metadata": {},
     "output_type": "execute_result"
    }
   ],
   "source": [
    "df.columns"
   ]
  },
  {
   "cell_type": "code",
   "execution_count": 21,
   "metadata": {
    "scrolled": true
   },
   "outputs": [
    {
     "data": {
      "text/html": [
       "<div>\n",
       "<style scoped>\n",
       "    .dataframe tbody tr th:only-of-type {\n",
       "        vertical-align: middle;\n",
       "    }\n",
       "\n",
       "    .dataframe tbody tr th {\n",
       "        vertical-align: top;\n",
       "    }\n",
       "\n",
       "    .dataframe thead tr th {\n",
       "        text-align: left;\n",
       "    }\n",
       "</style>\n",
       "<table border=\"1\" class=\"dataframe\">\n",
       "  <thead>\n",
       "    <tr>\n",
       "      <th></th>\n",
       "      <th colspan=\"2\" halign=\"left\">Temperatures</th>\n",
       "      <th colspan=\"2\" halign=\"left\">Humidity</th>\n",
       "    </tr>\n",
       "    <tr>\n",
       "      <th></th>\n",
       "      <th>Max Temperature</th>\n",
       "      <th>Min Temperature</th>\n",
       "      <th>Max Humidity</th>\n",
       "      <th>Min Humidity</th>\n",
       "    </tr>\n",
       "  </thead>\n",
       "  <tbody>\n",
       "    <tr>\n",
       "      <th>2016</th>\n",
       "      <td>0.581630</td>\n",
       "      <td>-0.382100</td>\n",
       "      <td>-0.120277</td>\n",
       "      <td>-0.182476</td>\n",
       "    </tr>\n",
       "    <tr>\n",
       "      <th>2017</th>\n",
       "      <td>0.619626</td>\n",
       "      <td>1.026001</td>\n",
       "      <td>1.195437</td>\n",
       "      <td>-0.722040</td>\n",
       "    </tr>\n",
       "  </tbody>\n",
       "</table>\n",
       "</div>"
      ],
      "text/plain": [
       "        Temperatures                     Humidity             \n",
       "     Max Temperature Min Temperature Max Humidity Min Humidity\n",
       "2016        0.581630       -0.382100    -0.120277    -0.182476\n",
       "2017        0.619626        1.026001     1.195437    -0.722040"
      ]
     },
     "execution_count": 21,
     "metadata": {},
     "output_type": "execute_result"
    }
   ],
   "source": [
    "df.loc['NYC']"
   ]
  },
  {
   "cell_type": "code",
   "execution_count": 22,
   "metadata": {
    "scrolled": true
   },
   "outputs": [
    {
     "data": {
      "text/plain": [
       "Temperatures  Max Temperature    0.581630\n",
       "              Min Temperature   -0.382100\n",
       "Humidity      Max Humidity      -0.120277\n",
       "              Min Humidity      -0.182476\n",
       "Name: (NYC, 2016), dtype: float64"
      ]
     },
     "execution_count": 22,
     "metadata": {},
     "output_type": "execute_result"
    }
   ],
   "source": [
    "df.loc['NYC', 2016]"
   ]
  },
  {
   "cell_type": "code",
   "execution_count": 23,
   "metadata": {
    "scrolled": true
   },
   "outputs": [
    {
     "name": "stderr",
     "output_type": "stream",
     "text": [
      "/usr/local/lib/python3.6/site-packages/pandas/core/indexing.py:1367: PerformanceWarning: indexing past lexsort depth may impact performance.\n",
      "  return self._getitem_tuple(key)\n"
     ]
    },
    {
     "data": {
      "text/plain": [
       "Max Temperature    0.58163\n",
       "Min Temperature   -0.38210\n",
       "Name: (NYC, 2016), dtype: float64"
      ]
     },
     "execution_count": 23,
     "metadata": {},
     "output_type": "execute_result"
    }
   ],
   "source": [
    "df.loc[('NYC', 2016), ('Temperatures',)]"
   ]
  },
  {
   "cell_type": "code",
   "execution_count": 37,
   "metadata": {
    "scrolled": false
   },
   "outputs": [
    {
     "data": {
      "text/plain": [
       "0.020022795979633346"
      ]
     },
     "execution_count": 37,
     "metadata": {},
     "output_type": "execute_result"
    }
   ],
   "source": [
    "df.loc[('NYC', 2016), ('Temperatures', 'Max Temperature')]"
   ]
  },
  {
   "cell_type": "markdown",
   "metadata": {},
   "source": [
    "**It's not recommended to have so many nested Indexes and Columns**"
   ]
  },
  {
   "cell_type": "markdown",
   "metadata": {},
   "source": [
    "![separator2](https://user-images.githubusercontent.com/7065401/39119518-59fa51ce-46ec-11e8-8503-5f8136558f2b.png)"
   ]
  }
 ],
 "metadata": {
  "kernelspec": {
   "display_name": "Python 3",
   "language": "python",
   "name": "python3"
  },
  "language_info": {
   "codemirror_mode": {
    "name": "ipython",
    "version": 3
   },
   "file_extension": ".py",
   "mimetype": "text/x-python",
   "name": "python",
   "nbconvert_exporter": "python",
   "pygments_lexer": "ipython3",
   "version": "3.6.8"
  }
 },
 "nbformat": 4,
 "nbformat_minor": 2
}
