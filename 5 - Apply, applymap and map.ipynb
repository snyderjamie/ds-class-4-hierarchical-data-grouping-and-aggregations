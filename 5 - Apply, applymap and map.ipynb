{
 "cells": [
  {
   "cell_type": "markdown",
   "metadata": {},
   "source": [
    "![rmotr](https://user-images.githubusercontent.com/7065401/39119486-4718e386-46ec-11e8-9fc3-5250a49ef570.png)\n",
    "<hr style=\"margin-bottom: 40px;\">\n",
    "\n",
    "<img src=\"https://user-images.githubusercontent.com/7065401/39119910-5f70eaa4-46ed-11e8-8236-b68568c39971.jpg\"\n",
    "    style=\"width:300px; float: right; margin: 0 40px 40px 40px;\"></img>\n",
    "\n",
    "# `apply`, `applymap` and `map`"
   ]
  },
  {
   "cell_type": "markdown",
   "metadata": {},
   "source": [
    "![separator2](https://user-images.githubusercontent.com/7065401/39119518-59fa51ce-46ec-11e8-8503-5f8136558f2b.png)\n",
    "\n",
    "## Hands on! "
   ]
  },
  {
   "cell_type": "code",
   "execution_count": 1,
   "metadata": {},
   "outputs": [],
   "source": [
    "import pandas as pd\n",
    "import numpy as np\n",
    "import matplotlib.pyplot as plt\n",
    "import seaborn as sns\n",
    "\n",
    "%matplotlib inline"
   ]
  },
  {
   "cell_type": "code",
   "execution_count": 29,
   "metadata": {},
   "outputs": [],
   "source": [
    "#Map refresher\n",
    "names = [\"tom\", 'Jane', 'Rodgeer']"
   ]
  },
  {
   "cell_type": "code",
   "execution_count": 30,
   "metadata": {},
   "outputs": [
    {
     "data": {
      "text/plain": [
       "[3, 4, 7]"
      ]
     },
     "execution_count": 30,
     "metadata": {},
     "output_type": "execute_result"
    }
   ],
   "source": [
    "list(map(len, names))"
   ]
  },
  {
   "cell_type": "code",
   "execution_count": null,
   "metadata": {},
   "outputs": [],
   "source": []
  },
  {
   "cell_type": "code",
   "execution_count": 2,
   "metadata": {},
   "outputs": [],
   "source": [
    "pd.options.display.float_format = '{:,.2f}'.format"
   ]
  },
  {
   "cell_type": "code",
   "execution_count": 3,
   "metadata": {},
   "outputs": [],
   "source": [
    "players = pd.DataFrame({\n",
    "    'salary': [\n",
    "        33285709,\n",
    "        31269231,\n",
    "        34682550,\n",
    "        25000000,\n",
    "        17826150,\n",
    "        29512900,\n",
    "        28530608,\n",
    "        26243760,\n",
    "        18868625,\n",
    "        2500000\n",
    "    ],\n",
    "    'season_start': [\n",
    "        2017, 2017, 2017, 2017, 2017, 2017, 2017, 2017, 2017, 2017\n",
    "    ],\n",
    "    'season_end': [2018, 2018, 2018, 2018, 2018, 2018, 2018, 2018, 2018, 2018],\n",
    "    'team': [\n",
    "        'CLE',\n",
    "        'DEN',\n",
    "        'GSW',\n",
    "        'GSW',\n",
    "        'GSW',\n",
    "        'LAC',\n",
    "        'OKC',\n",
    "        'OKC',\n",
    "        'SAS',\n",
    "        'SAS'\n",
    "    ],\n",
    "    'Pos': [\n",
    "        'SF', 'PF', 'PG', np.nan, 'SG', 'PF', 'PG', 'SF', 'SF', 'SG'\n",
    "    ],\n",
    "    'Age': [32.0, 31.0, 28.0, 28.0, 26.0, np.nan, 28.0, 32.0, 25.0, 39.0]\n",
    "}, index=[\n",
    "    'LeBron James',\n",
    "    'Paul Millsap',\n",
    "    'Stephen Curry',\n",
    "    'Kevin Durant',\n",
    "    'Klay Thompson',\n",
    "    'Blake Griffin',\n",
    "    'Russell Westbrook',\n",
    "    'Carmelo Anthony',\n",
    "    'Kawhi Leonard',\n",
    "    'Manu Ginobili'\n",
    "])"
   ]
  },
  {
   "cell_type": "code",
   "execution_count": 4,
   "metadata": {},
   "outputs": [
    {
     "data": {
      "text/html": [
       "<div>\n",
       "<style scoped>\n",
       "    .dataframe tbody tr th:only-of-type {\n",
       "        vertical-align: middle;\n",
       "    }\n",
       "\n",
       "    .dataframe tbody tr th {\n",
       "        vertical-align: top;\n",
       "    }\n",
       "\n",
       "    .dataframe thead th {\n",
       "        text-align: right;\n",
       "    }\n",
       "</style>\n",
       "<table border=\"1\" class=\"dataframe\">\n",
       "  <thead>\n",
       "    <tr style=\"text-align: right;\">\n",
       "      <th></th>\n",
       "      <th>Age</th>\n",
       "      <th>Pos</th>\n",
       "      <th>salary</th>\n",
       "      <th>season_end</th>\n",
       "      <th>season_start</th>\n",
       "      <th>team</th>\n",
       "    </tr>\n",
       "  </thead>\n",
       "  <tbody>\n",
       "    <tr>\n",
       "      <th>LeBron James</th>\n",
       "      <td>32.00</td>\n",
       "      <td>SF</td>\n",
       "      <td>33285709</td>\n",
       "      <td>2018</td>\n",
       "      <td>2017</td>\n",
       "      <td>CLE</td>\n",
       "    </tr>\n",
       "    <tr>\n",
       "      <th>Paul Millsap</th>\n",
       "      <td>31.00</td>\n",
       "      <td>PF</td>\n",
       "      <td>31269231</td>\n",
       "      <td>2018</td>\n",
       "      <td>2017</td>\n",
       "      <td>DEN</td>\n",
       "    </tr>\n",
       "    <tr>\n",
       "      <th>Stephen Curry</th>\n",
       "      <td>28.00</td>\n",
       "      <td>PG</td>\n",
       "      <td>34682550</td>\n",
       "      <td>2018</td>\n",
       "      <td>2017</td>\n",
       "      <td>GSW</td>\n",
       "    </tr>\n",
       "    <tr>\n",
       "      <th>Kevin Durant</th>\n",
       "      <td>28.00</td>\n",
       "      <td>NaN</td>\n",
       "      <td>25000000</td>\n",
       "      <td>2018</td>\n",
       "      <td>2017</td>\n",
       "      <td>GSW</td>\n",
       "    </tr>\n",
       "    <tr>\n",
       "      <th>Klay Thompson</th>\n",
       "      <td>26.00</td>\n",
       "      <td>SG</td>\n",
       "      <td>17826150</td>\n",
       "      <td>2018</td>\n",
       "      <td>2017</td>\n",
       "      <td>GSW</td>\n",
       "    </tr>\n",
       "    <tr>\n",
       "      <th>Blake Griffin</th>\n",
       "      <td>nan</td>\n",
       "      <td>PF</td>\n",
       "      <td>29512900</td>\n",
       "      <td>2018</td>\n",
       "      <td>2017</td>\n",
       "      <td>LAC</td>\n",
       "    </tr>\n",
       "    <tr>\n",
       "      <th>Russell Westbrook</th>\n",
       "      <td>28.00</td>\n",
       "      <td>PG</td>\n",
       "      <td>28530608</td>\n",
       "      <td>2018</td>\n",
       "      <td>2017</td>\n",
       "      <td>OKC</td>\n",
       "    </tr>\n",
       "    <tr>\n",
       "      <th>Carmelo Anthony</th>\n",
       "      <td>32.00</td>\n",
       "      <td>SF</td>\n",
       "      <td>26243760</td>\n",
       "      <td>2018</td>\n",
       "      <td>2017</td>\n",
       "      <td>OKC</td>\n",
       "    </tr>\n",
       "    <tr>\n",
       "      <th>Kawhi Leonard</th>\n",
       "      <td>25.00</td>\n",
       "      <td>SF</td>\n",
       "      <td>18868625</td>\n",
       "      <td>2018</td>\n",
       "      <td>2017</td>\n",
       "      <td>SAS</td>\n",
       "    </tr>\n",
       "    <tr>\n",
       "      <th>Manu Ginobili</th>\n",
       "      <td>39.00</td>\n",
       "      <td>SG</td>\n",
       "      <td>2500000</td>\n",
       "      <td>2018</td>\n",
       "      <td>2017</td>\n",
       "      <td>SAS</td>\n",
       "    </tr>\n",
       "  </tbody>\n",
       "</table>\n",
       "</div>"
      ],
      "text/plain": [
       "                    Age  Pos    salary  season_end  season_start team\n",
       "LeBron James      32.00   SF  33285709        2018          2017  CLE\n",
       "Paul Millsap      31.00   PF  31269231        2018          2017  DEN\n",
       "Stephen Curry     28.00   PG  34682550        2018          2017  GSW\n",
       "Kevin Durant      28.00  NaN  25000000        2018          2017  GSW\n",
       "Klay Thompson     26.00   SG  17826150        2018          2017  GSW\n",
       "Blake Griffin       nan   PF  29512900        2018          2017  LAC\n",
       "Russell Westbrook 28.00   PG  28530608        2018          2017  OKC\n",
       "Carmelo Anthony   32.00   SF  26243760        2018          2017  OKC\n",
       "Kawhi Leonard     25.00   SF  18868625        2018          2017  SAS\n",
       "Manu Ginobili     39.00   SG   2500000        2018          2017  SAS"
      ]
     },
     "execution_count": 4,
     "metadata": {},
     "output_type": "execute_result"
    }
   ],
   "source": [
    "players"
   ]
  },
  {
   "cell_type": "markdown",
   "metadata": {},
   "source": [
    "| Function | Datastructure   |    Applied to   |\n",
    "|----------|-----------------|-----------------|\n",
    "| `map`| `Series` | Each value |\n",
    "| `apply` | `Series` | All values |"
   ]
  },
  {
   "cell_type": "markdown",
   "metadata": {},
   "source": [
    "![separator1](https://user-images.githubusercontent.com/7065401/39119545-6d73d9aa-46ec-11e8-98d3-40204614f000.png)\n",
    "\n",
    "## Series\n",
    "\n",
    "Most important Series methos are `map` and `apply`. DataFrames also have an `apply` method, which makes it confusing. For now, we'll focus ONLY in `Series`."
   ]
  },
  {
   "cell_type": "markdown",
   "metadata": {},
   "source": [
    "### [`map`](https://pandas.pydata.org/pandas-docs/stable/generated/pandas.Series.map.html)\n",
    "\n",
    "`map` is a method from **Series**, and will let you _map_ from the series' values, to new values:"
   ]
  },
  {
   "cell_type": "code",
   "execution_count": 5,
   "metadata": {},
   "outputs": [
    {
     "data": {
      "text/plain": [
       "array(['SF', 'PF', 'PG', nan, 'SG'], dtype=object)"
      ]
     },
     "execution_count": 5,
     "metadata": {},
     "output_type": "execute_result"
    }
   ],
   "source": [
    "players['Pos'].unique()"
   ]
  },
  {
   "cell_type": "code",
   "execution_count": 6,
   "metadata": {},
   "outputs": [
    {
     "data": {
      "text/plain": [
       "LeBron James          Small Forward\n",
       "Paul Millsap          Power Forward\n",
       "Stephen Curry           Point Guard\n",
       "Kevin Durant                    NaN\n",
       "Klay Thompson        Shooting Guard\n",
       "Blake Griffin         Power Forward\n",
       "Russell Westbrook       Point Guard\n",
       "Carmelo Anthony       Small Forward\n",
       "Kawhi Leonard         Small Forward\n",
       "Manu Ginobili        Shooting Guard\n",
       "Name: Pos, dtype: object"
      ]
     },
     "execution_count": 6,
     "metadata": {},
     "output_type": "execute_result"
    }
   ],
   "source": [
    "players['Pos'].map({\n",
    "    'PG': 'Point Guard',\n",
    "    'SG': 'Shooting Guard',\n",
    "    'SF': 'Small Forward',\n",
    "    'PF': 'Power Forward',\n",
    "})"
   ]
  },
  {
   "cell_type": "code",
   "execution_count": 7,
   "metadata": {
    "scrolled": true
   },
   "outputs": [
    {
     "data": {
      "text/plain": [
       "LeBron James          Position: SF\n",
       "Paul Millsap          Position: PF\n",
       "Stephen Curry         Position: PG\n",
       "Kevin Durant         Position: nan\n",
       "Klay Thompson         Position: SG\n",
       "Blake Griffin         Position: PF\n",
       "Russell Westbrook     Position: PG\n",
       "Carmelo Anthony       Position: SF\n",
       "Kawhi Leonard         Position: SF\n",
       "Manu Ginobili         Position: SG\n",
       "Name: Pos, dtype: object"
      ]
     },
     "execution_count": 7,
     "metadata": {},
     "output_type": "execute_result"
    }
   ],
   "source": [
    "players['Pos'].map('Position: {}'.format)"
   ]
  },
  {
   "cell_type": "markdown",
   "metadata": {},
   "source": [
    "It takes an optional `na_action` parameter that specify what to do with `nan` values:"
   ]
  },
  {
   "cell_type": "code",
   "execution_count": 8,
   "metadata": {},
   "outputs": [
    {
     "data": {
      "text/plain": [
       "LeBron James         Position: SF\n",
       "Paul Millsap         Position: PF\n",
       "Stephen Curry        Position: PG\n",
       "Kevin Durant                  NaN\n",
       "Klay Thompson        Position: SG\n",
       "Blake Griffin        Position: PF\n",
       "Russell Westbrook    Position: PG\n",
       "Carmelo Anthony      Position: SF\n",
       "Kawhi Leonard        Position: SF\n",
       "Manu Ginobili        Position: SG\n",
       "Name: Pos, dtype: object"
      ]
     },
     "execution_count": 8,
     "metadata": {},
     "output_type": "execute_result"
    }
   ],
   "source": [
    "players['Pos'].map('Position: {}'.format, na_action='ignore')"
   ]
  },
  {
   "cell_type": "markdown",
   "metadata": {},
   "source": [
    "![separator1](https://user-images.githubusercontent.com/7065401/39119545-6d73d9aa-46ec-11e8-98d3-40204614f000.png)\n",
    "\n",
    "### [`apply`](https://pandas.pydata.org/pandas-docs/stable/generated/pandas.Series.apply.html)\n",
    "\n",
    "In a Series, `apply` _applies_ a custom function to each element and return a new Series.\n",
    "\n",
    "For example, apply the function `age_to_days` to each player's age:"
   ]
  },
  {
   "cell_type": "code",
   "execution_count": 9,
   "metadata": {},
   "outputs": [
    {
     "data": {
      "text/plain": [
       "LeBron James        11,680.00\n",
       "Paul Millsap        11,315.00\n",
       "Stephen Curry       10,220.00\n",
       "Kevin Durant        10,220.00\n",
       "Klay Thompson        9,490.00\n",
       "Blake Griffin             nan\n",
       "Russell Westbrook   10,220.00\n",
       "Carmelo Anthony     11,680.00\n",
       "Kawhi Leonard        9,125.00\n",
       "Manu Ginobili       14,235.00\n",
       "Name: Age, dtype: float64"
      ]
     },
     "execution_count": 9,
     "metadata": {},
     "output_type": "execute_result"
    }
   ],
   "source": [
    "# player['Age'] * 365\n",
    "# same as:\n",
    "players['Age'].apply(lambda age: age * 365)\n",
    "# use apply when there isn't a vectorized operoation\n",
    "# could use apply to send email"
   ]
  },
  {
   "cell_type": "markdown",
   "metadata": {},
   "source": [
    "Sometimes (and for Series specially) the functionalities of `map` and `apply` overlap. When you have a custom function, favor `apply`, when you have a 1-on-1 mapping (like the dict one), use `map`."
   ]
  },
  {
   "cell_type": "code",
   "execution_count": 10,
   "metadata": {
    "scrolled": false
   },
   "outputs": [
    {
     "data": {
      "text/plain": [
       "LeBron James         33,285,709.00\n",
       "Paul Millsap         31,269,231.00\n",
       "Stephen Curry        34,682,550.00\n",
       "Kevin Durant         25,000,000.00\n",
       "Klay Thompson        17,826,150.00\n",
       "Blake Griffin        29,512,900.00\n",
       "Russell Westbrook    28,530,608.00\n",
       "Carmelo Anthony      26,243,760.00\n",
       "Kawhi Leonard        18,868,625.00\n",
       "Manu Ginobili         2,500,000.00\n",
       "Name: salary, dtype: object"
      ]
     },
     "execution_count": 10,
     "metadata": {},
     "output_type": "execute_result"
    }
   ],
   "source": [
    "players['salary'].apply('{:,.2f}'.format)"
   ]
  },
  {
   "cell_type": "code",
   "execution_count": 11,
   "metadata": {
    "scrolled": false
   },
   "outputs": [
    {
     "data": {
      "text/plain": [
       "LeBron James         33,285,709.00\n",
       "Paul Millsap         31,269,231.00\n",
       "Stephen Curry        34,682,550.00\n",
       "Kevin Durant         25,000,000.00\n",
       "Klay Thompson        17,826,150.00\n",
       "Blake Griffin        29,512,900.00\n",
       "Russell Westbrook    28,530,608.00\n",
       "Carmelo Anthony      26,243,760.00\n",
       "Kawhi Leonard        18,868,625.00\n",
       "Manu Ginobili         2,500,000.00\n",
       "Name: salary, dtype: object"
      ]
     },
     "execution_count": 11,
     "metadata": {},
     "output_type": "execute_result"
    }
   ],
   "source": [
    "players['salary'].map('{:,.2f}'.format)"
   ]
  },
  {
   "cell_type": "markdown",
   "metadata": {},
   "source": [
    "`apply` let's you specify other parameters (arguments and keyword arguments) to pass to the function:"
   ]
  },
  {
   "cell_type": "code",
   "execution_count": 33,
   "metadata": {},
   "outputs": [],
   "source": [
    "def pretty_formate_salary(salary, precision):\n",
    "    return '{salary:,.{prec}f}'.format(salary=salary, prec=precision)"
   ]
  },
  {
   "cell_type": "code",
   "execution_count": null,
   "metadata": {},
   "outputs": [],
   "source": []
  },
  {
   "cell_type": "code",
   "execution_count": 12,
   "metadata": {},
   "outputs": [
    {
     "data": {
      "text/plain": [
       "LeBron James         33,285,709.000\n",
       "Paul Millsap         31,269,231.000\n",
       "Stephen Curry        34,682,550.000\n",
       "Kevin Durant         25,000,000.000\n",
       "Klay Thompson        17,826,150.000\n",
       "Blake Griffin        29,512,900.000\n",
       "Russell Westbrook    28,530,608.000\n",
       "Carmelo Anthony      26,243,760.000\n",
       "Kawhi Leonard        18,868,625.000\n",
       "Manu Ginobili         2,500,000.000\n",
       "Name: salary, dtype: object"
      ]
     },
     "execution_count": 12,
     "metadata": {},
     "output_type": "execute_result"
    }
   ],
   "source": [
    "players['salary'].apply(lambda salary, precision: '{salary:,.{prec}f}'.format(\n",
    "    salary=salary, prec=precision), args=(3, ))"
   ]
  },
  {
   "cell_type": "code",
   "execution_count": 13,
   "metadata": {
    "scrolled": true
   },
   "outputs": [
    {
     "data": {
      "text/plain": [
       "LeBron James         33,285,709.000\n",
       "Paul Millsap         31,269,231.000\n",
       "Stephen Curry        34,682,550.000\n",
       "Kevin Durant         25,000,000.000\n",
       "Klay Thompson        17,826,150.000\n",
       "Blake Griffin        29,512,900.000\n",
       "Russell Westbrook    28,530,608.000\n",
       "Carmelo Anthony      26,243,760.000\n",
       "Kawhi Leonard        18,868,625.000\n",
       "Manu Ginobili         2,500,000.000\n",
       "Name: salary, dtype: object"
      ]
     },
     "execution_count": 13,
     "metadata": {},
     "output_type": "execute_result"
    }
   ],
   "source": [
    "players['salary'].apply(lambda salary, precision: '{salary:,.{prec}f}'.format(\n",
    "    salary=salary, prec=precision), precision=3)"
   ]
  },
  {
   "cell_type": "markdown",
   "metadata": {},
   "source": [
    "![separator1](https://user-images.githubusercontent.com/7065401/39119545-6d73d9aa-46ec-11e8-98d3-40204614f000.png)\n",
    "\n",
    "### Indexes\n",
    "\n",
    "Indexes are special, they're not as versatile as Series or DataFrames, but you can still _apply_ functions. `Index` doesn't have the `apply` method, it on"
   ]
  },
  {
   "cell_type": "code",
   "execution_count": 14,
   "metadata": {},
   "outputs": [
    {
     "data": {
      "text/plain": [
       "Int64Index([12, 12, 13, 12, 13, 13, 17, 15, 13, 13], dtype='int64')"
      ]
     },
     "execution_count": 14,
     "metadata": {},
     "output_type": "execute_result"
    }
   ],
   "source": [
    "players.index.map(len)"
   ]
  },
  {
   "cell_type": "markdown",
   "metadata": {},
   "source": [
    "The `apply` method is not defined, if you absolutely need `apply`, you need to reset the index first:"
   ]
  },
  {
   "cell_type": "code",
   "execution_count": 15,
   "metadata": {
    "scrolled": true
   },
   "outputs": [
    {
     "data": {
      "text/plain": [
       "0    12\n",
       "1    12\n",
       "2    13\n",
       "3    12\n",
       "4    13\n",
       "5    13\n",
       "6    17\n",
       "7    15\n",
       "8    13\n",
       "9    13\n",
       "Name: index, dtype: int64"
      ]
     },
     "execution_count": 15,
     "metadata": {},
     "output_type": "execute_result"
    }
   ],
   "source": [
    "players.reset_index()['index'].apply(len)"
   ]
  },
  {
   "cell_type": "markdown",
   "metadata": {},
   "source": [
    "Most of these common operations are already provided in base String functions provided by pandas:"
   ]
  },
  {
   "cell_type": "code",
   "execution_count": 16,
   "metadata": {},
   "outputs": [
    {
     "data": {
      "text/plain": [
       "Int64Index([12, 12, 13, 12, 13, 13, 17, 15, 13, 13], dtype='int64')"
      ]
     },
     "execution_count": 16,
     "metadata": {},
     "output_type": "execute_result"
    }
   ],
   "source": [
    "players.index.str.len()"
   ]
  },
  {
   "cell_type": "markdown",
   "metadata": {},
   "source": [
    "![separator1](https://user-images.githubusercontent.com/7065401/39119545-6d73d9aa-46ec-11e8-98d3-40204614f000.png)\n",
    "\n",
    "## DataFrames\n",
    "\n",
    "DataFrames most important methods are `apply` and `applymap`. `applymap` is similar to Series' `apply`: it performs an operation element-wise (\"value per value\").\n",
    "\n",
    "### `DataFrame.applymap`"
   ]
  },
  {
   "cell_type": "code",
   "execution_count": 17,
   "metadata": {},
   "outputs": [
    {
     "data": {
      "text/html": [
       "<div>\n",
       "<style scoped>\n",
       "    .dataframe tbody tr th:only-of-type {\n",
       "        vertical-align: middle;\n",
       "    }\n",
       "\n",
       "    .dataframe tbody tr th {\n",
       "        vertical-align: top;\n",
       "    }\n",
       "\n",
       "    .dataframe thead th {\n",
       "        text-align: right;\n",
       "    }\n",
       "</style>\n",
       "<table border=\"1\" class=\"dataframe\">\n",
       "  <thead>\n",
       "    <tr style=\"text-align: right;\">\n",
       "      <th></th>\n",
       "      <th>Age</th>\n",
       "      <th>salary</th>\n",
       "    </tr>\n",
       "  </thead>\n",
       "  <tbody>\n",
       "    <tr>\n",
       "      <th>LeBron James</th>\n",
       "      <td>32.00</td>\n",
       "      <td>33,285,709.00</td>\n",
       "    </tr>\n",
       "    <tr>\n",
       "      <th>Paul Millsap</th>\n",
       "      <td>31.00</td>\n",
       "      <td>31,269,231.00</td>\n",
       "    </tr>\n",
       "    <tr>\n",
       "      <th>Stephen Curry</th>\n",
       "      <td>28.00</td>\n",
       "      <td>34,682,550.00</td>\n",
       "    </tr>\n",
       "    <tr>\n",
       "      <th>Kevin Durant</th>\n",
       "      <td>28.00</td>\n",
       "      <td>25,000,000.00</td>\n",
       "    </tr>\n",
       "    <tr>\n",
       "      <th>Klay Thompson</th>\n",
       "      <td>26.00</td>\n",
       "      <td>17,826,150.00</td>\n",
       "    </tr>\n",
       "    <tr>\n",
       "      <th>Blake Griffin</th>\n",
       "      <td>nan</td>\n",
       "      <td>29,512,900.00</td>\n",
       "    </tr>\n",
       "    <tr>\n",
       "      <th>Russell Westbrook</th>\n",
       "      <td>28.00</td>\n",
       "      <td>28,530,608.00</td>\n",
       "    </tr>\n",
       "    <tr>\n",
       "      <th>Carmelo Anthony</th>\n",
       "      <td>32.00</td>\n",
       "      <td>26,243,760.00</td>\n",
       "    </tr>\n",
       "    <tr>\n",
       "      <th>Kawhi Leonard</th>\n",
       "      <td>25.00</td>\n",
       "      <td>18,868,625.00</td>\n",
       "    </tr>\n",
       "    <tr>\n",
       "      <th>Manu Ginobili</th>\n",
       "      <td>39.00</td>\n",
       "      <td>2,500,000.00</td>\n",
       "    </tr>\n",
       "  </tbody>\n",
       "</table>\n",
       "</div>"
      ],
      "text/plain": [
       "                     Age         salary\n",
       "LeBron James       32.00  33,285,709.00\n",
       "Paul Millsap       31.00  31,269,231.00\n",
       "Stephen Curry      28.00  34,682,550.00\n",
       "Kevin Durant       28.00  25,000,000.00\n",
       "Klay Thompson      26.00  17,826,150.00\n",
       "Blake Griffin        nan  29,512,900.00\n",
       "Russell Westbrook  28.00  28,530,608.00\n",
       "Carmelo Anthony    32.00  26,243,760.00\n",
       "Kawhi Leonard      25.00  18,868,625.00\n",
       "Manu Ginobili      39.00   2,500,000.00"
      ]
     },
     "execution_count": 17,
     "metadata": {},
     "output_type": "execute_result"
    }
   ],
   "source": [
    "players[['Age', 'salary']].applymap(lambda x: '{:,.2f}'.format(x))"
   ]
  },
  {
   "cell_type": "markdown",
   "metadata": {},
   "source": [
    "Again, you're applying your function to **each element** individually.\n",
    "\n",
    "![separator1](https://user-images.githubusercontent.com/7065401/39119545-6d73d9aa-46ec-11e8-98d3-40204614f000.png)\n",
    "\n",
    "### `DataFrame.apply`\n",
    "Probably the most interesting method of a DataFrame is `apply`, as it works on a per-row or per-column basis. The default behavior is \"per column\":"
   ]
  },
  {
   "cell_type": "code",
   "execution_count": 18,
   "metadata": {},
   "outputs": [],
   "source": [
    "def range_per_column(a_column):\n",
    "    return a_column.max() - a_column.min()"
   ]
  },
  {
   "cell_type": "code",
   "execution_count": 19,
   "metadata": {},
   "outputs": [
    {
     "data": {
      "text/plain": [
       "Age              14.00\n",
       "salary   32,182,550.00\n",
       "dtype: float64"
      ]
     },
     "execution_count": 19,
     "metadata": {},
     "output_type": "execute_result"
    }
   ],
   "source": [
    "players[['Age', 'salary']].apply(range_per_column)"
   ]
  },
  {
   "cell_type": "markdown",
   "metadata": {},
   "source": [
    "And as you can see, the `DataFrame` has been \"pivoted\", the columns `Age` and `salary` are now the indexes of the resulting `Series`.\n",
    "\n",
    "Finally, using `apply` per row is really useful too, because your custom function receives an entire row, and you can operate on all those row values:"
   ]
  },
  {
   "cell_type": "code",
   "execution_count": 20,
   "metadata": {},
   "outputs": [
    {
     "data": {
      "text/html": [
       "<div>\n",
       "<style scoped>\n",
       "    .dataframe tbody tr th:only-of-type {\n",
       "        vertical-align: middle;\n",
       "    }\n",
       "\n",
       "    .dataframe tbody tr th {\n",
       "        vertical-align: top;\n",
       "    }\n",
       "\n",
       "    .dataframe thead th {\n",
       "        text-align: right;\n",
       "    }\n",
       "</style>\n",
       "<table border=\"1\" class=\"dataframe\">\n",
       "  <thead>\n",
       "    <tr style=\"text-align: right;\">\n",
       "      <th></th>\n",
       "      <th>Age</th>\n",
       "      <th>Pos</th>\n",
       "      <th>salary</th>\n",
       "      <th>season_end</th>\n",
       "      <th>season_start</th>\n",
       "      <th>team</th>\n",
       "    </tr>\n",
       "  </thead>\n",
       "  <tbody>\n",
       "    <tr>\n",
       "      <th>LeBron James</th>\n",
       "      <td>32.00</td>\n",
       "      <td>SF</td>\n",
       "      <td>33285709</td>\n",
       "      <td>2018</td>\n",
       "      <td>2017</td>\n",
       "      <td>CLE</td>\n",
       "    </tr>\n",
       "    <tr>\n",
       "      <th>Paul Millsap</th>\n",
       "      <td>31.00</td>\n",
       "      <td>PF</td>\n",
       "      <td>31269231</td>\n",
       "      <td>2018</td>\n",
       "      <td>2017</td>\n",
       "      <td>DEN</td>\n",
       "    </tr>\n",
       "    <tr>\n",
       "      <th>Stephen Curry</th>\n",
       "      <td>28.00</td>\n",
       "      <td>PG</td>\n",
       "      <td>34682550</td>\n",
       "      <td>2018</td>\n",
       "      <td>2017</td>\n",
       "      <td>GSW</td>\n",
       "    </tr>\n",
       "    <tr>\n",
       "      <th>Kevin Durant</th>\n",
       "      <td>28.00</td>\n",
       "      <td>NaN</td>\n",
       "      <td>25000000</td>\n",
       "      <td>2018</td>\n",
       "      <td>2017</td>\n",
       "      <td>GSW</td>\n",
       "    </tr>\n",
       "    <tr>\n",
       "      <th>Klay Thompson</th>\n",
       "      <td>26.00</td>\n",
       "      <td>SG</td>\n",
       "      <td>17826150</td>\n",
       "      <td>2018</td>\n",
       "      <td>2017</td>\n",
       "      <td>GSW</td>\n",
       "    </tr>\n",
       "    <tr>\n",
       "      <th>Blake Griffin</th>\n",
       "      <td>nan</td>\n",
       "      <td>PF</td>\n",
       "      <td>29512900</td>\n",
       "      <td>2018</td>\n",
       "      <td>2017</td>\n",
       "      <td>LAC</td>\n",
       "    </tr>\n",
       "    <tr>\n",
       "      <th>Russell Westbrook</th>\n",
       "      <td>28.00</td>\n",
       "      <td>PG</td>\n",
       "      <td>28530608</td>\n",
       "      <td>2018</td>\n",
       "      <td>2017</td>\n",
       "      <td>OKC</td>\n",
       "    </tr>\n",
       "    <tr>\n",
       "      <th>Carmelo Anthony</th>\n",
       "      <td>32.00</td>\n",
       "      <td>SF</td>\n",
       "      <td>26243760</td>\n",
       "      <td>2018</td>\n",
       "      <td>2017</td>\n",
       "      <td>OKC</td>\n",
       "    </tr>\n",
       "    <tr>\n",
       "      <th>Kawhi Leonard</th>\n",
       "      <td>25.00</td>\n",
       "      <td>SF</td>\n",
       "      <td>18868625</td>\n",
       "      <td>2018</td>\n",
       "      <td>2017</td>\n",
       "      <td>SAS</td>\n",
       "    </tr>\n",
       "    <tr>\n",
       "      <th>Manu Ginobili</th>\n",
       "      <td>39.00</td>\n",
       "      <td>SG</td>\n",
       "      <td>2500000</td>\n",
       "      <td>2018</td>\n",
       "      <td>2017</td>\n",
       "      <td>SAS</td>\n",
       "    </tr>\n",
       "  </tbody>\n",
       "</table>\n",
       "</div>"
      ],
      "text/plain": [
       "                    Age  Pos    salary  season_end  season_start team\n",
       "LeBron James      32.00   SF  33285709        2018          2017  CLE\n",
       "Paul Millsap      31.00   PF  31269231        2018          2017  DEN\n",
       "Stephen Curry     28.00   PG  34682550        2018          2017  GSW\n",
       "Kevin Durant      28.00  NaN  25000000        2018          2017  GSW\n",
       "Klay Thompson     26.00   SG  17826150        2018          2017  GSW\n",
       "Blake Griffin       nan   PF  29512900        2018          2017  LAC\n",
       "Russell Westbrook 28.00   PG  28530608        2018          2017  OKC\n",
       "Carmelo Anthony   32.00   SF  26243760        2018          2017  OKC\n",
       "Kawhi Leonard     25.00   SF  18868625        2018          2017  SAS\n",
       "Manu Ginobili     39.00   SG   2500000        2018          2017  SAS"
      ]
     },
     "execution_count": 20,
     "metadata": {},
     "output_type": "execute_result"
    }
   ],
   "source": [
    "players"
   ]
  },
  {
   "cell_type": "code",
   "execution_count": 21,
   "metadata": {},
   "outputs": [],
   "source": [
    "def salary_per_year_of_age(a_row):\n",
    "    return a_row['salary'] / a_row['Age']"
   ]
  },
  {
   "cell_type": "code",
   "execution_count": 22,
   "metadata": {
    "scrolled": true
   },
   "outputs": [
    {
     "data": {
      "text/plain": [
       "LeBron James        1,040,178.41\n",
       "Paul Millsap        1,008,684.87\n",
       "Stephen Curry       1,238,662.50\n",
       "Kevin Durant          892,857.14\n",
       "Klay Thompson         685,621.15\n",
       "Blake Griffin                nan\n",
       "Russell Westbrook   1,018,950.29\n",
       "Carmelo Anthony       820,117.50\n",
       "Kawhi Leonard         754,745.00\n",
       "Manu Ginobili          64,102.56\n",
       "dtype: float64"
      ]
     },
     "execution_count": 22,
     "metadata": {},
     "output_type": "execute_result"
    }
   ],
   "source": [
    "players.apply(salary_per_year_of_age, axis=1)"
   ]
  },
  {
   "cell_type": "markdown",
   "metadata": {},
   "source": [
    "`DataFrame.apply` also takes possible extra arguments:"
   ]
  },
  {
   "cell_type": "code",
   "execution_count": 23,
   "metadata": {},
   "outputs": [],
   "source": [
    "def salary_per_age_period(a_row, period=1):\n",
    "    return a_row['salary'] / (a_row['Age'] * period)"
   ]
  },
  {
   "cell_type": "code",
   "execution_count": 24,
   "metadata": {},
   "outputs": [
    {
     "data": {
      "text/plain": [
       "LeBron James        1,040,178.41\n",
       "Paul Millsap        1,008,684.87\n",
       "Stephen Curry       1,238,662.50\n",
       "Kevin Durant          892,857.14\n",
       "Klay Thompson         685,621.15\n",
       "Blake Griffin                nan\n",
       "Russell Westbrook   1,018,950.29\n",
       "Carmelo Anthony       820,117.50\n",
       "Kawhi Leonard         754,745.00\n",
       "Manu Ginobili          64,102.56\n",
       "dtype: float64"
      ]
     },
     "execution_count": 24,
     "metadata": {},
     "output_type": "execute_result"
    }
   ],
   "source": [
    "players.apply(salary_per_age_period, axis=1, period=1)  # per year of age"
   ]
  },
  {
   "cell_type": "code",
   "execution_count": 25,
   "metadata": {
    "scrolled": false
   },
   "outputs": [
    {
     "data": {
      "text/plain": [
       "LeBron James         86,681.53\n",
       "Paul Millsap         84,057.07\n",
       "Stephen Curry       103,221.88\n",
       "Kevin Durant         74,404.76\n",
       "Klay Thompson        57,135.10\n",
       "Blake Griffin              nan\n",
       "Russell Westbrook    84,912.52\n",
       "Carmelo Anthony      68,343.12\n",
       "Kawhi Leonard        62,895.42\n",
       "Manu Ginobili         5,341.88\n",
       "dtype: float64"
      ]
     },
     "execution_count": 25,
     "metadata": {},
     "output_type": "execute_result"
    }
   ],
   "source": [
    "players.apply(salary_per_age_period, axis=1, period=12)  # per month of age"
   ]
  },
  {
   "cell_type": "markdown",
   "metadata": {},
   "source": [
    "![separator2](https://user-images.githubusercontent.com/7065401/39119518-59fa51ce-46ec-11e8-8503-5f8136558f2b.png)"
   ]
  },
  {
   "cell_type": "code",
   "execution_count": null,
   "metadata": {},
   "outputs": [],
   "source": []
  },
  {
   "cell_type": "code",
   "execution_count": 34,
   "metadata": {},
   "outputs": [],
   "source": [
    "apple = pd.read_csv('https://gist.githubusercontent.com/Muskey88/65478802c87a542689d929a0b9ff3d48/raw/a98d3a543391f5565068a14e42af33a41562abe3/Apple.csv')"
   ]
  },
  {
   "cell_type": "code",
   "execution_count": 35,
   "metadata": {},
   "outputs": [],
   "source": [
    "mcsf = pd.read_csv('https://gist.githubusercontent.com/Muskey88/65478802c87a542689d929a0b9ff3d48/raw/a98d3a543391f5565068a14e42af33a41562abe3/Microsoft.csv')"
   ]
  },
  {
   "cell_type": "code",
   "execution_count": 36,
   "metadata": {},
   "outputs": [
    {
     "data": {
      "text/html": [
       "<div>\n",
       "<style scoped>\n",
       "    .dataframe tbody tr th:only-of-type {\n",
       "        vertical-align: middle;\n",
       "    }\n",
       "\n",
       "    .dataframe tbody tr th {\n",
       "        vertical-align: top;\n",
       "    }\n",
       "\n",
       "    .dataframe thead th {\n",
       "        text-align: right;\n",
       "    }\n",
       "</style>\n",
       "<table border=\"1\" class=\"dataframe\">\n",
       "  <thead>\n",
       "    <tr style=\"text-align: right;\">\n",
       "      <th></th>\n",
       "      <th>timestamp</th>\n",
       "      <th>open</th>\n",
       "      <th>high</th>\n",
       "      <th>low</th>\n",
       "      <th>close</th>\n",
       "      <th>volume</th>\n",
       "    </tr>\n",
       "  </thead>\n",
       "  <tbody>\n",
       "    <tr>\n",
       "      <th>0</th>\n",
       "      <td>2019-09-12</td>\n",
       "      <td>206.43</td>\n",
       "      <td>226.41</td>\n",
       "      <td>204.22</td>\n",
       "      <td>223.09</td>\n",
       "      <td>213475162</td>\n",
       "    </tr>\n",
       "    <tr>\n",
       "      <th>1</th>\n",
       "      <td>2019-08-30</td>\n",
       "      <td>213.90</td>\n",
       "      <td>218.03</td>\n",
       "      <td>192.58</td>\n",
       "      <td>208.74</td>\n",
       "      <td>681074600</td>\n",
       "    </tr>\n",
       "    <tr>\n",
       "      <th>2</th>\n",
       "      <td>2019-07-31</td>\n",
       "      <td>203.17</td>\n",
       "      <td>221.37</td>\n",
       "      <td>198.41</td>\n",
       "      <td>213.04</td>\n",
       "      <td>473957000</td>\n",
       "    </tr>\n",
       "    <tr>\n",
       "      <th>3</th>\n",
       "      <td>2019-06-28</td>\n",
       "      <td>175.60</td>\n",
       "      <td>201.57</td>\n",
       "      <td>170.27</td>\n",
       "      <td>197.92</td>\n",
       "      <td>515218700</td>\n",
       "    </tr>\n",
       "    <tr>\n",
       "      <th>4</th>\n",
       "      <td>2019-05-31</td>\n",
       "      <td>209.88</td>\n",
       "      <td>215.31</td>\n",
       "      <td>174.99</td>\n",
       "      <td>175.07</td>\n",
       "      <td>739456600</td>\n",
       "    </tr>\n",
       "  </tbody>\n",
       "</table>\n",
       "</div>"
      ],
      "text/plain": [
       "    timestamp   open   high    low  close     volume\n",
       "0  2019-09-12 206.43 226.41 204.22 223.09  213475162\n",
       "1  2019-08-30 213.90 218.03 192.58 208.74  681074600\n",
       "2  2019-07-31 203.17 221.37 198.41 213.04  473957000\n",
       "3  2019-06-28 175.60 201.57 170.27 197.92  515218700\n",
       "4  2019-05-31 209.88 215.31 174.99 175.07  739456600"
      ]
     },
     "execution_count": 36,
     "metadata": {},
     "output_type": "execute_result"
    }
   ],
   "source": [
    "apple.head()"
   ]
  },
  {
   "cell_type": "code",
   "execution_count": 37,
   "metadata": {},
   "outputs": [
    {
     "data": {
      "text/html": [
       "<div>\n",
       "<style scoped>\n",
       "    .dataframe tbody tr th:only-of-type {\n",
       "        vertical-align: middle;\n",
       "    }\n",
       "\n",
       "    .dataframe tbody tr th {\n",
       "        vertical-align: top;\n",
       "    }\n",
       "\n",
       "    .dataframe thead th {\n",
       "        text-align: right;\n",
       "    }\n",
       "</style>\n",
       "<table border=\"1\" class=\"dataframe\">\n",
       "  <thead>\n",
       "    <tr style=\"text-align: right;\">\n",
       "      <th></th>\n",
       "      <th>timestamp</th>\n",
       "      <th>open</th>\n",
       "      <th>high</th>\n",
       "      <th>low</th>\n",
       "      <th>close</th>\n",
       "      <th>volume</th>\n",
       "    </tr>\n",
       "  </thead>\n",
       "  <tbody>\n",
       "    <tr>\n",
       "      <th>0</th>\n",
       "      <td>2019-09-12</td>\n",
       "      <td>136.61</td>\n",
       "      <td>140.38</td>\n",
       "      <td>134.51</td>\n",
       "      <td>137.52</td>\n",
       "      <td>187949022</td>\n",
       "    </tr>\n",
       "    <tr>\n",
       "      <th>1</th>\n",
       "      <td>2019-08-30</td>\n",
       "      <td>137.00</td>\n",
       "      <td>140.94</td>\n",
       "      <td>130.78</td>\n",
       "      <td>137.86</td>\n",
       "      <td>584474300</td>\n",
       "    </tr>\n",
       "    <tr>\n",
       "      <th>2</th>\n",
       "      <td>2019-07-31</td>\n",
       "      <td>136.63</td>\n",
       "      <td>141.68</td>\n",
       "      <td>134.67</td>\n",
       "      <td>136.27</td>\n",
       "      <td>484547500</td>\n",
       "    </tr>\n",
       "    <tr>\n",
       "      <th>3</th>\n",
       "      <td>2019-06-28</td>\n",
       "      <td>123.85</td>\n",
       "      <td>138.40</td>\n",
       "      <td>119.01</td>\n",
       "      <td>133.96</td>\n",
       "      <td>508324300</td>\n",
       "    </tr>\n",
       "    <tr>\n",
       "      <th>4</th>\n",
       "      <td>2019-05-31</td>\n",
       "      <td>130.53</td>\n",
       "      <td>130.65</td>\n",
       "      <td>123.04</td>\n",
       "      <td>123.68</td>\n",
       "      <td>547218800</td>\n",
       "    </tr>\n",
       "  </tbody>\n",
       "</table>\n",
       "</div>"
      ],
      "text/plain": [
       "    timestamp   open   high    low  close     volume\n",
       "0  2019-09-12 136.61 140.38 134.51 137.52  187949022\n",
       "1  2019-08-30 137.00 140.94 130.78 137.86  584474300\n",
       "2  2019-07-31 136.63 141.68 134.67 136.27  484547500\n",
       "3  2019-06-28 123.85 138.40 119.01 133.96  508324300\n",
       "4  2019-05-31 130.53 130.65 123.04 123.68  547218800"
      ]
     },
     "execution_count": 37,
     "metadata": {},
     "output_type": "execute_result"
    }
   ],
   "source": [
    "mcsf.head()"
   ]
  },
  {
   "cell_type": "code",
   "execution_count": null,
   "metadata": {},
   "outputs": [],
   "source": [
    "apple.set_index('timestamp')"
   ]
  },
  {
   "cell_type": "code",
   "execution_count": 39,
   "metadata": {},
   "outputs": [
    {
     "ename": "NameError",
     "evalue": "name 'keys' is not defined",
     "output_type": "error",
     "traceback": [
      "\u001b[0;31m---------------------------------------------------------------------------\u001b[0m",
      "\u001b[0;31mNameError\u001b[0m                                 Traceback (most recent call last)",
      "\u001b[0;32m<ipython-input-39-a240652887dc>\u001b[0m in \u001b[0;36m<module>\u001b[0;34m()\u001b[0m\n\u001b[0;32m----> 1\u001b[0;31m \u001b[0mpd\u001b[0m\u001b[0;34m.\u001b[0m\u001b[0mconcat\u001b[0m\u001b[0;34m(\u001b[0m\u001b[0;34m[\u001b[0m\u001b[0mapple\u001b[0m\u001b[0;34m.\u001b[0m\u001b[0mhead\u001b[0m\u001b[0;34m,\u001b[0m \u001b[0mmcsf\u001b[0m\u001b[0;34m.\u001b[0m\u001b[0mhead\u001b[0m\u001b[0;34m(\u001b[0m\u001b[0;34m)\u001b[0m\u001b[0;34m]\u001b[0m\u001b[0;34m,\u001b[0m \u001b[0mkeys\u001b[0m\u001b[0;34m[\u001b[0m\u001b[0;34m'Apple'\u001b[0m\u001b[0;34m,\u001b[0m \u001b[0;34m'Microsoft'\u001b[0m\u001b[0;34m]\u001b[0m\u001b[0;34m)\u001b[0m\u001b[0;34m\u001b[0m\u001b[0;34m\u001b[0m\u001b[0m\n\u001b[0m",
      "\u001b[0;31mNameError\u001b[0m: name 'keys' is not defined"
     ]
    }
   ],
   "source": [
    "pd.concat([apple.head, mcsf.head()], keys['Apple', 'Microsoft'])"
   ]
  },
  {
   "cell_type": "code",
   "execution_count": null,
   "metadata": {},
   "outputs": [],
   "source": []
  }
 ],
 "metadata": {
  "kernelspec": {
   "display_name": "Python 3",
   "language": "python",
   "name": "python3"
  },
  "language_info": {
   "codemirror_mode": {
    "name": "ipython",
    "version": 3
   },
   "file_extension": ".py",
   "mimetype": "text/x-python",
   "name": "python",
   "nbconvert_exporter": "python",
   "pygments_lexer": "ipython3",
   "version": "3.6.8"
  }
 },
 "nbformat": 4,
 "nbformat_minor": 2
}
