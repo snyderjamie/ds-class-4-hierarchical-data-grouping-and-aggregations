{
 "cells": [
  {
   "cell_type": "markdown",
   "metadata": {},
   "source": [
    "![rmotr](https://user-images.githubusercontent.com/7065401/39119486-4718e386-46ec-11e8-9fc3-5250a49ef570.png)\n",
    "<hr style=\"margin-bottom: 40px;\">\n",
    "\n",
    "<img src=\"https://user-images.githubusercontent.com/872296/38710484-1b94f93c-3e97-11e8-977c-abde2e774f57.png\"\n",
    "    style=\"width:300px; float: right; margin: 0 40px 40px 40px;\"></img>\n",
    "\n",
    "# Aggregation and Grouping"
   ]
  },
  {
   "cell_type": "markdown",
   "metadata": {},
   "source": [
    "![separator2](https://user-images.githubusercontent.com/7065401/39119518-59fa51ce-46ec-11e8-8503-5f8136558f2b.png)\n",
    "\n",
    "## Hands on!"
   ]
  },
  {
   "cell_type": "code",
   "execution_count": 1,
   "metadata": {},
   "outputs": [],
   "source": [
    "import pandas as pd\n",
    "import numpy as np\n",
    "import matplotlib.pyplot as plt\n",
    "import seaborn as sns\n",
    "\n",
    "%matplotlib inline"
   ]
  },
  {
   "cell_type": "code",
   "execution_count": 2,
   "metadata": {},
   "outputs": [],
   "source": [
    "players = pd.DataFrame({\n",
    "    'salary': [\n",
    "        33285709,\n",
    "        31269231,\n",
    "        34682550,\n",
    "        25000000,\n",
    "        17826150,\n",
    "        29512900,\n",
    "        28530608,\n",
    "        26243760,\n",
    "        18868625,\n",
    "        2500000\n",
    "    ],\n",
    "    'season_start': [\n",
    "        2017, 2017, 2017, 2017, 2017, 2017, 2017, 2017, 2017, 2017\n",
    "    ],\n",
    "    'season_end': [2018, 2018, 2018, 2018, 2018, 2018, 2018, 2018, 2018, 2018],\n",
    "    'team': [\n",
    "        'CLE',\n",
    "        'DEN',\n",
    "        'GSW',\n",
    "        'GSW',\n",
    "        'GSW',\n",
    "        'LAC',\n",
    "        'OKC',\n",
    "        'OKC',\n",
    "        'SAS',\n",
    "        'SAS'\n",
    "    ],\n",
    "    'Pos': [\n",
    "        'SF', 'PF', 'PG', 'PF', 'SG', 'PF', 'PG', 'SF', 'SF', 'SG'\n",
    "    ],\n",
    "    'Age': [32.0, 31.0, 28.0, 28.0, 26.0, 27.0, 28.0, 32.0, 25.0, 39.0]\n",
    "}, index=[\n",
    "    'LeBron James',\n",
    "    'Paul Millsap',\n",
    "    'Stephen Curry',\n",
    "    'Kevin Durant',\n",
    "    'Klay Thompson',\n",
    "    'Blake Griffin',\n",
    "    'Russell Westbrook',\n",
    "    'Carmelo Anthony',\n",
    "    'Kawhi Leonard',\n",
    "    'Manu Ginobili'\n",
    "])"
   ]
  },
  {
   "cell_type": "code",
   "execution_count": 3,
   "metadata": {},
   "outputs": [],
   "source": [
    "players.sort_index(inplace=True)"
   ]
  },
  {
   "cell_type": "code",
   "execution_count": 4,
   "metadata": {},
   "outputs": [
    {
     "data": {
      "text/html": [
       "<div>\n",
       "<style scoped>\n",
       "    .dataframe tbody tr th:only-of-type {\n",
       "        vertical-align: middle;\n",
       "    }\n",
       "\n",
       "    .dataframe tbody tr th {\n",
       "        vertical-align: top;\n",
       "    }\n",
       "\n",
       "    .dataframe thead th {\n",
       "        text-align: right;\n",
       "    }\n",
       "</style>\n",
       "<table border=\"1\" class=\"dataframe\">\n",
       "  <thead>\n",
       "    <tr style=\"text-align: right;\">\n",
       "      <th></th>\n",
       "      <th>Age</th>\n",
       "      <th>Pos</th>\n",
       "      <th>salary</th>\n",
       "      <th>season_end</th>\n",
       "      <th>season_start</th>\n",
       "      <th>team</th>\n",
       "    </tr>\n",
       "  </thead>\n",
       "  <tbody>\n",
       "    <tr>\n",
       "      <th>Blake Griffin</th>\n",
       "      <td>27.0</td>\n",
       "      <td>PF</td>\n",
       "      <td>29512900</td>\n",
       "      <td>2018</td>\n",
       "      <td>2017</td>\n",
       "      <td>LAC</td>\n",
       "    </tr>\n",
       "    <tr>\n",
       "      <th>Carmelo Anthony</th>\n",
       "      <td>32.0</td>\n",
       "      <td>SF</td>\n",
       "      <td>26243760</td>\n",
       "      <td>2018</td>\n",
       "      <td>2017</td>\n",
       "      <td>OKC</td>\n",
       "    </tr>\n",
       "    <tr>\n",
       "      <th>Kawhi Leonard</th>\n",
       "      <td>25.0</td>\n",
       "      <td>SF</td>\n",
       "      <td>18868625</td>\n",
       "      <td>2018</td>\n",
       "      <td>2017</td>\n",
       "      <td>SAS</td>\n",
       "    </tr>\n",
       "    <tr>\n",
       "      <th>Kevin Durant</th>\n",
       "      <td>28.0</td>\n",
       "      <td>PF</td>\n",
       "      <td>25000000</td>\n",
       "      <td>2018</td>\n",
       "      <td>2017</td>\n",
       "      <td>GSW</td>\n",
       "    </tr>\n",
       "    <tr>\n",
       "      <th>Klay Thompson</th>\n",
       "      <td>26.0</td>\n",
       "      <td>SG</td>\n",
       "      <td>17826150</td>\n",
       "      <td>2018</td>\n",
       "      <td>2017</td>\n",
       "      <td>GSW</td>\n",
       "    </tr>\n",
       "    <tr>\n",
       "      <th>LeBron James</th>\n",
       "      <td>32.0</td>\n",
       "      <td>SF</td>\n",
       "      <td>33285709</td>\n",
       "      <td>2018</td>\n",
       "      <td>2017</td>\n",
       "      <td>CLE</td>\n",
       "    </tr>\n",
       "    <tr>\n",
       "      <th>Manu Ginobili</th>\n",
       "      <td>39.0</td>\n",
       "      <td>SG</td>\n",
       "      <td>2500000</td>\n",
       "      <td>2018</td>\n",
       "      <td>2017</td>\n",
       "      <td>SAS</td>\n",
       "    </tr>\n",
       "    <tr>\n",
       "      <th>Paul Millsap</th>\n",
       "      <td>31.0</td>\n",
       "      <td>PF</td>\n",
       "      <td>31269231</td>\n",
       "      <td>2018</td>\n",
       "      <td>2017</td>\n",
       "      <td>DEN</td>\n",
       "    </tr>\n",
       "    <tr>\n",
       "      <th>Russell Westbrook</th>\n",
       "      <td>28.0</td>\n",
       "      <td>PG</td>\n",
       "      <td>28530608</td>\n",
       "      <td>2018</td>\n",
       "      <td>2017</td>\n",
       "      <td>OKC</td>\n",
       "    </tr>\n",
       "    <tr>\n",
       "      <th>Stephen Curry</th>\n",
       "      <td>28.0</td>\n",
       "      <td>PG</td>\n",
       "      <td>34682550</td>\n",
       "      <td>2018</td>\n",
       "      <td>2017</td>\n",
       "      <td>GSW</td>\n",
       "    </tr>\n",
       "  </tbody>\n",
       "</table>\n",
       "</div>"
      ],
      "text/plain": [
       "                    Age Pos    salary  season_end  season_start team\n",
       "Blake Griffin      27.0  PF  29512900        2018          2017  LAC\n",
       "Carmelo Anthony    32.0  SF  26243760        2018          2017  OKC\n",
       "Kawhi Leonard      25.0  SF  18868625        2018          2017  SAS\n",
       "Kevin Durant       28.0  PF  25000000        2018          2017  GSW\n",
       "Klay Thompson      26.0  SG  17826150        2018          2017  GSW\n",
       "LeBron James       32.0  SF  33285709        2018          2017  CLE\n",
       "Manu Ginobili      39.0  SG   2500000        2018          2017  SAS\n",
       "Paul Millsap       31.0  PF  31269231        2018          2017  DEN\n",
       "Russell Westbrook  28.0  PG  28530608        2018          2017  OKC\n",
       "Stephen Curry      28.0  PG  34682550        2018          2017  GSW"
      ]
     },
     "execution_count": 4,
     "metadata": {},
     "output_type": "execute_result"
    }
   ],
   "source": [
    "players"
   ]
  },
  {
   "cell_type": "code",
   "execution_count": 5,
   "metadata": {},
   "outputs": [
    {
     "name": "stdout",
     "output_type": "stream",
     "text": [
      "<class 'pandas.core.frame.DataFrame'>\n",
      "Index: 10 entries, Blake Griffin to Stephen Curry\n",
      "Data columns (total 6 columns):\n",
      "Age             10 non-null float64\n",
      "Pos             10 non-null object\n",
      "salary          10 non-null int64\n",
      "season_end      10 non-null int64\n",
      "season_start    10 non-null int64\n",
      "team            10 non-null object\n",
      "dtypes: float64(1), int64(3), object(2)\n",
      "memory usage: 560.0+ bytes\n"
     ]
    }
   ],
   "source": [
    "players.info()"
   ]
  },
  {
   "cell_type": "markdown",
   "metadata": {},
   "source": [
    "![separator1](https://user-images.githubusercontent.com/7065401/39119545-6d73d9aa-46ec-11e8-98d3-40204614f000.png)\n",
    "\n",
    "## Understanding Grouping\n",
    "\n",
    "We can manually simulate the Split > Apply > Combine operation."
   ]
  },
  {
   "cell_type": "markdown",
   "metadata": {},
   "source": [
    "##### 1. Split (split players by positions)"
   ]
  },
  {
   "cell_type": "code",
   "execution_count": 6,
   "metadata": {
    "scrolled": false
   },
   "outputs": [
    {
     "data": {
      "text/plain": [
       "SF    3\n",
       "PF    3\n",
       "PG    2\n",
       "SG    2\n",
       "Name: Pos, dtype: int64"
      ]
     },
     "execution_count": 6,
     "metadata": {},
     "output_type": "execute_result"
    }
   ],
   "source": [
    "players['Pos'].value_counts()"
   ]
  },
  {
   "cell_type": "markdown",
   "metadata": {},
   "source": [
    "**Position = 'PF'**"
   ]
  },
  {
   "cell_type": "code",
   "execution_count": 7,
   "metadata": {},
   "outputs": [
    {
     "data": {
      "text/html": [
       "<div>\n",
       "<style scoped>\n",
       "    .dataframe tbody tr th:only-of-type {\n",
       "        vertical-align: middle;\n",
       "    }\n",
       "\n",
       "    .dataframe tbody tr th {\n",
       "        vertical-align: top;\n",
       "    }\n",
       "\n",
       "    .dataframe thead th {\n",
       "        text-align: right;\n",
       "    }\n",
       "</style>\n",
       "<table border=\"1\" class=\"dataframe\">\n",
       "  <thead>\n",
       "    <tr style=\"text-align: right;\">\n",
       "      <th></th>\n",
       "      <th>Age</th>\n",
       "      <th>Pos</th>\n",
       "      <th>salary</th>\n",
       "      <th>season_end</th>\n",
       "      <th>season_start</th>\n",
       "      <th>team</th>\n",
       "    </tr>\n",
       "  </thead>\n",
       "  <tbody>\n",
       "    <tr>\n",
       "      <th>Blake Griffin</th>\n",
       "      <td>27.0</td>\n",
       "      <td>PF</td>\n",
       "      <td>29512900</td>\n",
       "      <td>2018</td>\n",
       "      <td>2017</td>\n",
       "      <td>LAC</td>\n",
       "    </tr>\n",
       "    <tr>\n",
       "      <th>Kevin Durant</th>\n",
       "      <td>28.0</td>\n",
       "      <td>PF</td>\n",
       "      <td>25000000</td>\n",
       "      <td>2018</td>\n",
       "      <td>2017</td>\n",
       "      <td>GSW</td>\n",
       "    </tr>\n",
       "    <tr>\n",
       "      <th>Paul Millsap</th>\n",
       "      <td>31.0</td>\n",
       "      <td>PF</td>\n",
       "      <td>31269231</td>\n",
       "      <td>2018</td>\n",
       "      <td>2017</td>\n",
       "      <td>DEN</td>\n",
       "    </tr>\n",
       "  </tbody>\n",
       "</table>\n",
       "</div>"
      ],
      "text/plain": [
       "                Age Pos    salary  season_end  season_start team\n",
       "Blake Griffin  27.0  PF  29512900        2018          2017  LAC\n",
       "Kevin Durant   28.0  PF  25000000        2018          2017  GSW\n",
       "Paul Millsap   31.0  PF  31269231        2018          2017  DEN"
      ]
     },
     "execution_count": 7,
     "metadata": {},
     "output_type": "execute_result"
    }
   ],
   "source": [
    "players[players['Pos'] == 'PF']"
   ]
  },
  {
   "cell_type": "markdown",
   "metadata": {},
   "source": [
    "**Position = 'SF'**"
   ]
  },
  {
   "cell_type": "code",
   "execution_count": 8,
   "metadata": {},
   "outputs": [
    {
     "data": {
      "text/html": [
       "<div>\n",
       "<style scoped>\n",
       "    .dataframe tbody tr th:only-of-type {\n",
       "        vertical-align: middle;\n",
       "    }\n",
       "\n",
       "    .dataframe tbody tr th {\n",
       "        vertical-align: top;\n",
       "    }\n",
       "\n",
       "    .dataframe thead th {\n",
       "        text-align: right;\n",
       "    }\n",
       "</style>\n",
       "<table border=\"1\" class=\"dataframe\">\n",
       "  <thead>\n",
       "    <tr style=\"text-align: right;\">\n",
       "      <th></th>\n",
       "      <th>Age</th>\n",
       "      <th>Pos</th>\n",
       "      <th>salary</th>\n",
       "      <th>season_end</th>\n",
       "      <th>season_start</th>\n",
       "      <th>team</th>\n",
       "    </tr>\n",
       "  </thead>\n",
       "  <tbody>\n",
       "    <tr>\n",
       "      <th>Carmelo Anthony</th>\n",
       "      <td>32.0</td>\n",
       "      <td>SF</td>\n",
       "      <td>26243760</td>\n",
       "      <td>2018</td>\n",
       "      <td>2017</td>\n",
       "      <td>OKC</td>\n",
       "    </tr>\n",
       "    <tr>\n",
       "      <th>Kawhi Leonard</th>\n",
       "      <td>25.0</td>\n",
       "      <td>SF</td>\n",
       "      <td>18868625</td>\n",
       "      <td>2018</td>\n",
       "      <td>2017</td>\n",
       "      <td>SAS</td>\n",
       "    </tr>\n",
       "    <tr>\n",
       "      <th>LeBron James</th>\n",
       "      <td>32.0</td>\n",
       "      <td>SF</td>\n",
       "      <td>33285709</td>\n",
       "      <td>2018</td>\n",
       "      <td>2017</td>\n",
       "      <td>CLE</td>\n",
       "    </tr>\n",
       "  </tbody>\n",
       "</table>\n",
       "</div>"
      ],
      "text/plain": [
       "                  Age Pos    salary  season_end  season_start team\n",
       "Carmelo Anthony  32.0  SF  26243760        2018          2017  OKC\n",
       "Kawhi Leonard    25.0  SF  18868625        2018          2017  SAS\n",
       "LeBron James     32.0  SF  33285709        2018          2017  CLE"
      ]
     },
     "execution_count": 8,
     "metadata": {},
     "output_type": "execute_result"
    }
   ],
   "source": [
    "players[players['Pos'] == 'SF']"
   ]
  },
  {
   "cell_type": "markdown",
   "metadata": {},
   "source": [
    "**Position = 'PG'**"
   ]
  },
  {
   "cell_type": "code",
   "execution_count": 9,
   "metadata": {},
   "outputs": [
    {
     "data": {
      "text/html": [
       "<div>\n",
       "<style scoped>\n",
       "    .dataframe tbody tr th:only-of-type {\n",
       "        vertical-align: middle;\n",
       "    }\n",
       "\n",
       "    .dataframe tbody tr th {\n",
       "        vertical-align: top;\n",
       "    }\n",
       "\n",
       "    .dataframe thead th {\n",
       "        text-align: right;\n",
       "    }\n",
       "</style>\n",
       "<table border=\"1\" class=\"dataframe\">\n",
       "  <thead>\n",
       "    <tr style=\"text-align: right;\">\n",
       "      <th></th>\n",
       "      <th>Age</th>\n",
       "      <th>Pos</th>\n",
       "      <th>salary</th>\n",
       "      <th>season_end</th>\n",
       "      <th>season_start</th>\n",
       "      <th>team</th>\n",
       "    </tr>\n",
       "  </thead>\n",
       "  <tbody>\n",
       "    <tr>\n",
       "      <th>Russell Westbrook</th>\n",
       "      <td>28.0</td>\n",
       "      <td>PG</td>\n",
       "      <td>28530608</td>\n",
       "      <td>2018</td>\n",
       "      <td>2017</td>\n",
       "      <td>OKC</td>\n",
       "    </tr>\n",
       "    <tr>\n",
       "      <th>Stephen Curry</th>\n",
       "      <td>28.0</td>\n",
       "      <td>PG</td>\n",
       "      <td>34682550</td>\n",
       "      <td>2018</td>\n",
       "      <td>2017</td>\n",
       "      <td>GSW</td>\n",
       "    </tr>\n",
       "  </tbody>\n",
       "</table>\n",
       "</div>"
      ],
      "text/plain": [
       "                    Age Pos    salary  season_end  season_start team\n",
       "Russell Westbrook  28.0  PG  28530608        2018          2017  OKC\n",
       "Stephen Curry      28.0  PG  34682550        2018          2017  GSW"
      ]
     },
     "execution_count": 9,
     "metadata": {},
     "output_type": "execute_result"
    }
   ],
   "source": [
    "players[players['Pos'] == 'PG']"
   ]
  },
  {
   "cell_type": "markdown",
   "metadata": {},
   "source": [
    "##### 2. Apply (apply a function to each group)\n",
    "\n",
    "For example, get the `max` salary per group (per position):"
   ]
  },
  {
   "cell_type": "code",
   "execution_count": 10,
   "metadata": {
    "scrolled": true
   },
   "outputs": [
    {
     "data": {
      "text/html": [
       "<div>\n",
       "<style scoped>\n",
       "    .dataframe tbody tr th:only-of-type {\n",
       "        vertical-align: middle;\n",
       "    }\n",
       "\n",
       "    .dataframe tbody tr th {\n",
       "        vertical-align: top;\n",
       "    }\n",
       "\n",
       "    .dataframe thead th {\n",
       "        text-align: right;\n",
       "    }\n",
       "</style>\n",
       "<table border=\"1\" class=\"dataframe\">\n",
       "  <thead>\n",
       "    <tr style=\"text-align: right;\">\n",
       "      <th></th>\n",
       "      <th>Age</th>\n",
       "      <th>Pos</th>\n",
       "      <th>salary</th>\n",
       "      <th>season_end</th>\n",
       "      <th>season_start</th>\n",
       "      <th>team</th>\n",
       "    </tr>\n",
       "  </thead>\n",
       "  <tbody>\n",
       "    <tr>\n",
       "      <th>Paul Millsap</th>\n",
       "      <td>31.0</td>\n",
       "      <td>PF</td>\n",
       "      <td>31269231</td>\n",
       "      <td>2018</td>\n",
       "      <td>2017</td>\n",
       "      <td>DEN</td>\n",
       "    </tr>\n",
       "    <tr>\n",
       "      <th>Blake Griffin</th>\n",
       "      <td>27.0</td>\n",
       "      <td>PF</td>\n",
       "      <td>29512900</td>\n",
       "      <td>2018</td>\n",
       "      <td>2017</td>\n",
       "      <td>LAC</td>\n",
       "    </tr>\n",
       "    <tr>\n",
       "      <th>Kevin Durant</th>\n",
       "      <td>28.0</td>\n",
       "      <td>PF</td>\n",
       "      <td>25000000</td>\n",
       "      <td>2018</td>\n",
       "      <td>2017</td>\n",
       "      <td>GSW</td>\n",
       "    </tr>\n",
       "  </tbody>\n",
       "</table>\n",
       "</div>"
      ],
      "text/plain": [
       "                Age Pos    salary  season_end  season_start team\n",
       "Paul Millsap   31.0  PF  31269231        2018          2017  DEN\n",
       "Blake Griffin  27.0  PF  29512900        2018          2017  LAC\n",
       "Kevin Durant   28.0  PF  25000000        2018          2017  GSW"
      ]
     },
     "execution_count": 10,
     "metadata": {},
     "output_type": "execute_result"
    }
   ],
   "source": [
    "players[players['Pos'] == 'PF'].sort_values(by='salary', ascending=False)"
   ]
  },
  {
   "cell_type": "code",
   "execution_count": 11,
   "metadata": {},
   "outputs": [
    {
     "data": {
      "text/html": [
       "<div>\n",
       "<style scoped>\n",
       "    .dataframe tbody tr th:only-of-type {\n",
       "        vertical-align: middle;\n",
       "    }\n",
       "\n",
       "    .dataframe tbody tr th {\n",
       "        vertical-align: top;\n",
       "    }\n",
       "\n",
       "    .dataframe thead th {\n",
       "        text-align: right;\n",
       "    }\n",
       "</style>\n",
       "<table border=\"1\" class=\"dataframe\">\n",
       "  <thead>\n",
       "    <tr style=\"text-align: right;\">\n",
       "      <th></th>\n",
       "      <th>Age</th>\n",
       "      <th>Pos</th>\n",
       "      <th>salary</th>\n",
       "      <th>season_end</th>\n",
       "      <th>season_start</th>\n",
       "      <th>team</th>\n",
       "    </tr>\n",
       "  </thead>\n",
       "  <tbody>\n",
       "    <tr>\n",
       "      <th>LeBron James</th>\n",
       "      <td>32.0</td>\n",
       "      <td>SF</td>\n",
       "      <td>33285709</td>\n",
       "      <td>2018</td>\n",
       "      <td>2017</td>\n",
       "      <td>CLE</td>\n",
       "    </tr>\n",
       "    <tr>\n",
       "      <th>Carmelo Anthony</th>\n",
       "      <td>32.0</td>\n",
       "      <td>SF</td>\n",
       "      <td>26243760</td>\n",
       "      <td>2018</td>\n",
       "      <td>2017</td>\n",
       "      <td>OKC</td>\n",
       "    </tr>\n",
       "    <tr>\n",
       "      <th>Kawhi Leonard</th>\n",
       "      <td>25.0</td>\n",
       "      <td>SF</td>\n",
       "      <td>18868625</td>\n",
       "      <td>2018</td>\n",
       "      <td>2017</td>\n",
       "      <td>SAS</td>\n",
       "    </tr>\n",
       "  </tbody>\n",
       "</table>\n",
       "</div>"
      ],
      "text/plain": [
       "                  Age Pos    salary  season_end  season_start team\n",
       "LeBron James     32.0  SF  33285709        2018          2017  CLE\n",
       "Carmelo Anthony  32.0  SF  26243760        2018          2017  OKC\n",
       "Kawhi Leonard    25.0  SF  18868625        2018          2017  SAS"
      ]
     },
     "execution_count": 11,
     "metadata": {},
     "output_type": "execute_result"
    }
   ],
   "source": [
    "players[players['Pos'] == 'SF'].sort_values(by='salary', ascending=False)"
   ]
  },
  {
   "cell_type": "code",
   "execution_count": 12,
   "metadata": {},
   "outputs": [
    {
     "data": {
      "text/html": [
       "<div>\n",
       "<style scoped>\n",
       "    .dataframe tbody tr th:only-of-type {\n",
       "        vertical-align: middle;\n",
       "    }\n",
       "\n",
       "    .dataframe tbody tr th {\n",
       "        vertical-align: top;\n",
       "    }\n",
       "\n",
       "    .dataframe thead th {\n",
       "        text-align: right;\n",
       "    }\n",
       "</style>\n",
       "<table border=\"1\" class=\"dataframe\">\n",
       "  <thead>\n",
       "    <tr style=\"text-align: right;\">\n",
       "      <th></th>\n",
       "      <th>Age</th>\n",
       "      <th>Pos</th>\n",
       "      <th>salary</th>\n",
       "      <th>season_end</th>\n",
       "      <th>season_start</th>\n",
       "      <th>team</th>\n",
       "    </tr>\n",
       "  </thead>\n",
       "  <tbody>\n",
       "    <tr>\n",
       "      <th>Stephen Curry</th>\n",
       "      <td>28.0</td>\n",
       "      <td>PG</td>\n",
       "      <td>34682550</td>\n",
       "      <td>2018</td>\n",
       "      <td>2017</td>\n",
       "      <td>GSW</td>\n",
       "    </tr>\n",
       "    <tr>\n",
       "      <th>Russell Westbrook</th>\n",
       "      <td>28.0</td>\n",
       "      <td>PG</td>\n",
       "      <td>28530608</td>\n",
       "      <td>2018</td>\n",
       "      <td>2017</td>\n",
       "      <td>OKC</td>\n",
       "    </tr>\n",
       "  </tbody>\n",
       "</table>\n",
       "</div>"
      ],
      "text/plain": [
       "                    Age Pos    salary  season_end  season_start team\n",
       "Stephen Curry      28.0  PG  34682550        2018          2017  GSW\n",
       "Russell Westbrook  28.0  PG  28530608        2018          2017  OKC"
      ]
     },
     "execution_count": 12,
     "metadata": {},
     "output_type": "execute_result"
    }
   ],
   "source": [
    "players[players['Pos'] == 'PG'].sort_values(by='salary', ascending=False)"
   ]
  },
  {
   "cell_type": "code",
   "execution_count": 38,
   "metadata": {},
   "outputs": [
    {
     "data": {
      "text/html": [
       "<div>\n",
       "<style scoped>\n",
       "    .dataframe tbody tr th:only-of-type {\n",
       "        vertical-align: middle;\n",
       "    }\n",
       "\n",
       "    .dataframe tbody tr th {\n",
       "        vertical-align: top;\n",
       "    }\n",
       "\n",
       "    .dataframe thead th {\n",
       "        text-align: right;\n",
       "    }\n",
       "</style>\n",
       "<table border=\"1\" class=\"dataframe\">\n",
       "  <thead>\n",
       "    <tr style=\"text-align: right;\">\n",
       "      <th></th>\n",
       "      <th>Age</th>\n",
       "      <th>salary</th>\n",
       "      <th>season_end</th>\n",
       "      <th>season_start</th>\n",
       "    </tr>\n",
       "    <tr>\n",
       "      <th>Pos</th>\n",
       "      <th></th>\n",
       "      <th></th>\n",
       "      <th></th>\n",
       "      <th></th>\n",
       "    </tr>\n",
       "  </thead>\n",
       "  <tbody>\n",
       "    <tr>\n",
       "      <th>PF</th>\n",
       "      <td>86.0</td>\n",
       "      <td>85782131</td>\n",
       "      <td>6054</td>\n",
       "      <td>6051</td>\n",
       "    </tr>\n",
       "    <tr>\n",
       "      <th>PG</th>\n",
       "      <td>56.0</td>\n",
       "      <td>63213158</td>\n",
       "      <td>4036</td>\n",
       "      <td>4034</td>\n",
       "    </tr>\n",
       "    <tr>\n",
       "      <th>SF</th>\n",
       "      <td>89.0</td>\n",
       "      <td>78398094</td>\n",
       "      <td>6054</td>\n",
       "      <td>6051</td>\n",
       "    </tr>\n",
       "    <tr>\n",
       "      <th>SG</th>\n",
       "      <td>65.0</td>\n",
       "      <td>20326150</td>\n",
       "      <td>4036</td>\n",
       "      <td>4034</td>\n",
       "    </tr>\n",
       "  </tbody>\n",
       "</table>\n",
       "</div>"
      ],
      "text/plain": [
       "      Age    salary  season_end  season_start\n",
       "Pos                                          \n",
       "PF   86.0  85782131        6054          6051\n",
       "PG   56.0  63213158        4036          4034\n",
       "SF   89.0  78398094        6054          6051\n",
       "SG   65.0  20326150        4036          4034"
      ]
     },
     "execution_count": 38,
     "metadata": {},
     "output_type": "execute_result"
    }
   ],
   "source": [
    "#different way to code it\n",
    "players.groupby('Pos').sum()"
   ]
  },
  {
   "cell_type": "code",
   "execution_count": 39,
   "metadata": {},
   "outputs": [
    {
     "data": {
      "text/plain": [
       "Pos\n",
       "PF    85782131\n",
       "PG    63213158\n",
       "SF    78398094\n",
       "SG    20326150\n",
       "Name: salary, dtype: int64"
      ]
     },
     "execution_count": 39,
     "metadata": {},
     "output_type": "execute_result"
    }
   ],
   "source": [
    "players.groupby('Pos')['salary'].sum()"
   ]
  },
  {
   "cell_type": "markdown",
   "metadata": {},
   "source": [
    "![separator1](https://user-images.githubusercontent.com/7065401/39119545-6d73d9aa-46ec-11e8-98d3-40204614f000.png)\n",
    "\n",
    "## Aggregation\n",
    "\n",
    "This is usually referred to as **an aggregation**, you have a set of values (for example, all the salaries of the players in position `PG`) and you want to \"aggregate\" them or \"reduce\" them to a single value that has meaning for you. In this case, the aggregation is the `max` function. For each _group of players_ (split by position), we want to get the `max` salary:"
   ]
  },
  {
   "cell_type": "code",
   "execution_count": 36,
   "metadata": {},
   "outputs": [
    {
     "data": {
      "text/plain": [
       "Blake Griffin        29512900\n",
       "Carmelo Anthony      26243760\n",
       "Kawhi Leonard        18868625\n",
       "Kevin Durant         25000000\n",
       "Klay Thompson        17826150\n",
       "LeBron James         33285709\n",
       "Manu Ginobili         2500000\n",
       "Paul Millsap         31269231\n",
       "Russell Westbrook    28530608\n",
       "Stephen Curry        34682550\n",
       "Name: salary, dtype: int64"
      ]
     },
     "execution_count": 36,
     "metadata": {},
     "output_type": "execute_result"
    }
   ],
   "source": [
    "players['salary']"
   ]
  },
  {
   "cell_type": "code",
   "execution_count": null,
   "metadata": {},
   "outputs": [],
   "source": [
    "# How done pandas know what position!?!!? because it can look back to the possition"
   ]
  },
  {
   "cell_type": "code",
   "execution_count": 37,
   "metadata": {},
   "outputs": [
    {
     "data": {
      "text/plain": [
       "<pandas.core.groupby.SeriesGroupBy object at 0x7fe044104da0>"
      ]
     },
     "execution_count": 37,
     "metadata": {},
     "output_type": "execute_result"
    }
   ],
   "source": [
    "players['salary'].groupby(players['Pos'])\n",
    "#half formed question, via coding\n",
    "# need to do something else. "
   ]
  },
  {
   "cell_type": "code",
   "execution_count": 13,
   "metadata": {
    "scrolled": true
   },
   "outputs": [
    {
     "data": {
      "text/plain": [
       "Pos\n",
       "PF    31269231\n",
       "PG    34682550\n",
       "SF    33285709\n",
       "SG    17826150\n",
       "Name: salary, dtype: int64"
      ]
     },
     "execution_count": 13,
     "metadata": {},
     "output_type": "execute_result"
    }
   ],
   "source": [
    "players['salary'].groupby(players['Pos']).max()"
   ]
  },
  {
   "cell_type": "markdown",
   "metadata": {},
   "source": [
    "The `max` function in this case, is the applied function, we could apply any other different function, for example, `mean` to get the average salary per position:"
   ]
  },
  {
   "cell_type": "code",
   "execution_count": 14,
   "metadata": {},
   "outputs": [
    {
     "data": {
      "text/plain": [
       "Pos\n",
       "PF    2.859404e+07\n",
       "PG    3.160658e+07\n",
       "SF    2.613270e+07\n",
       "SG    1.016308e+07\n",
       "Name: salary, dtype: float64"
      ]
     },
     "execution_count": 14,
     "metadata": {},
     "output_type": "execute_result"
    }
   ],
   "source": [
    "players['salary'].groupby(players['Pos']).mean()"
   ]
  },
  {
   "cell_type": "markdown",
   "metadata": {},
   "source": [
    "We could verify it works manually:"
   ]
  },
  {
   "cell_type": "code",
   "execution_count": 15,
   "metadata": {},
   "outputs": [
    {
     "data": {
      "text/html": [
       "<div>\n",
       "<style scoped>\n",
       "    .dataframe tbody tr th:only-of-type {\n",
       "        vertical-align: middle;\n",
       "    }\n",
       "\n",
       "    .dataframe tbody tr th {\n",
       "        vertical-align: top;\n",
       "    }\n",
       "\n",
       "    .dataframe thead th {\n",
       "        text-align: right;\n",
       "    }\n",
       "</style>\n",
       "<table border=\"1\" class=\"dataframe\">\n",
       "  <thead>\n",
       "    <tr style=\"text-align: right;\">\n",
       "      <th></th>\n",
       "      <th>Age</th>\n",
       "      <th>Pos</th>\n",
       "      <th>salary</th>\n",
       "      <th>season_end</th>\n",
       "      <th>season_start</th>\n",
       "      <th>team</th>\n",
       "    </tr>\n",
       "  </thead>\n",
       "  <tbody>\n",
       "    <tr>\n",
       "      <th>Stephen Curry</th>\n",
       "      <td>28.0</td>\n",
       "      <td>PG</td>\n",
       "      <td>34682550</td>\n",
       "      <td>2018</td>\n",
       "      <td>2017</td>\n",
       "      <td>GSW</td>\n",
       "    </tr>\n",
       "    <tr>\n",
       "      <th>Russell Westbrook</th>\n",
       "      <td>28.0</td>\n",
       "      <td>PG</td>\n",
       "      <td>28530608</td>\n",
       "      <td>2018</td>\n",
       "      <td>2017</td>\n",
       "      <td>OKC</td>\n",
       "    </tr>\n",
       "  </tbody>\n",
       "</table>\n",
       "</div>"
      ],
      "text/plain": [
       "                    Age Pos    salary  season_end  season_start team\n",
       "Stephen Curry      28.0  PG  34682550        2018          2017  GSW\n",
       "Russell Westbrook  28.0  PG  28530608        2018          2017  OKC"
      ]
     },
     "execution_count": 15,
     "metadata": {},
     "output_type": "execute_result"
    }
   ],
   "source": [
    "players[players['Pos'] == 'PG'].sort_values(by='salary', ascending=False)"
   ]
  },
  {
   "cell_type": "code",
   "execution_count": 16,
   "metadata": {
    "scrolled": true
   },
   "outputs": [
    {
     "data": {
      "text/plain": [
       "31606579.0"
      ]
     },
     "execution_count": 16,
     "metadata": {},
     "output_type": "execute_result"
    }
   ],
   "source": [
    "players.loc[players['Pos'] == 'PG', 'salary'].mean()"
   ]
  },
  {
   "cell_type": "markdown",
   "metadata": {},
   "source": [
    "The result of the `groupby` operation is a `Series`, indexed by the group and containing the aggregation result as the values. What happens if you want to group by multiple parameters?"
   ]
  },
  {
   "cell_type": "code",
   "execution_count": 17,
   "metadata": {
    "scrolled": true
   },
   "outputs": [
    {
     "data": {
      "text/plain": [
       "team  Pos\n",
       "CLE   SF     33285709\n",
       "DEN   PF     31269231\n",
       "GSW   PF     25000000\n",
       "      PG     34682550\n",
       "      SG     17826150\n",
       "LAC   PF     29512900\n",
       "OKC   PG     28530608\n",
       "      SF     26243760\n",
       "SAS   SF     18868625\n",
       "      SG      2500000\n",
       "Name: salary, dtype: int64"
      ]
     },
     "execution_count": 17,
     "metadata": {},
     "output_type": "execute_result"
    }
   ],
   "source": [
    "players['salary'].groupby([players['team'], players['Pos']]).max()"
   ]
  },
  {
   "cell_type": "markdown",
   "metadata": {},
   "source": [
    "The result is also a `Series`, but with a hierarchical index.\n",
    "\n",
    "In the case of grouping by multiple features, **order matters**. Changing the order of the keys to use to group will alter the resulting Series:"
   ]
  },
  {
   "cell_type": "code",
   "execution_count": 18,
   "metadata": {
    "scrolled": true
   },
   "outputs": [
    {
     "data": {
      "text/plain": [
       "Pos  team\n",
       "PF   DEN     31269231\n",
       "     GSW     25000000\n",
       "     LAC     29512900\n",
       "PG   GSW     34682550\n",
       "     OKC     28530608\n",
       "SF   CLE     33285709\n",
       "     OKC     26243760\n",
       "     SAS     18868625\n",
       "SG   GSW     17826150\n",
       "     SAS      2500000\n",
       "Name: salary, dtype: int64"
      ]
     },
     "execution_count": 18,
     "metadata": {},
     "output_type": "execute_result"
    }
   ],
   "source": [
    "players['salary'].groupby([players['Pos'], players['team']]).max()"
   ]
  },
  {
   "cell_type": "markdown",
   "metadata": {},
   "source": [
    "Although the values will need to match in the common keys. For example, the max salary of \"Team `GSW`, position `PF`\" is the same as max salary of \"position `PF`, team `GSW`\"."
   ]
  },
  {
   "cell_type": "markdown",
   "metadata": {},
   "source": [
    "![separator1](https://user-images.githubusercontent.com/7065401/39119545-6d73d9aa-46ec-11e8-98d3-40204614f000.png)\n",
    "\n",
    "### Custom aggregations\n",
    "\n",
    "Most common aggregation functions are already provided (`min`, `max`, `mean`, etc.). But you can also use other custom functions with the `aggregate` method:"
   ]
  },
  {
   "cell_type": "code",
   "execution_count": 19,
   "metadata": {},
   "outputs": [
    {
     "data": {
      "text/html": [
       "<div>\n",
       "<style scoped>\n",
       "    .dataframe tbody tr th:only-of-type {\n",
       "        vertical-align: middle;\n",
       "    }\n",
       "\n",
       "    .dataframe tbody tr th {\n",
       "        vertical-align: top;\n",
       "    }\n",
       "\n",
       "    .dataframe thead th {\n",
       "        text-align: right;\n",
       "    }\n",
       "</style>\n",
       "<table border=\"1\" class=\"dataframe\">\n",
       "  <thead>\n",
       "    <tr style=\"text-align: right;\">\n",
       "      <th></th>\n",
       "      <th>Age</th>\n",
       "      <th>salary</th>\n",
       "      <th>season_end</th>\n",
       "      <th>season_start</th>\n",
       "    </tr>\n",
       "    <tr>\n",
       "      <th>team</th>\n",
       "      <th></th>\n",
       "      <th></th>\n",
       "      <th></th>\n",
       "      <th></th>\n",
       "    </tr>\n",
       "  </thead>\n",
       "  <tbody>\n",
       "    <tr>\n",
       "      <th>CLE</th>\n",
       "      <td>32.0</td>\n",
       "      <td>33285709</td>\n",
       "      <td>2018</td>\n",
       "      <td>2017</td>\n",
       "    </tr>\n",
       "    <tr>\n",
       "      <th>DEN</th>\n",
       "      <td>31.0</td>\n",
       "      <td>31269231</td>\n",
       "      <td>2018</td>\n",
       "      <td>2017</td>\n",
       "    </tr>\n",
       "    <tr>\n",
       "      <th>GSW</th>\n",
       "      <td>82.0</td>\n",
       "      <td>77508700</td>\n",
       "      <td>6054</td>\n",
       "      <td>6051</td>\n",
       "    </tr>\n",
       "    <tr>\n",
       "      <th>LAC</th>\n",
       "      <td>27.0</td>\n",
       "      <td>29512900</td>\n",
       "      <td>2018</td>\n",
       "      <td>2017</td>\n",
       "    </tr>\n",
       "    <tr>\n",
       "      <th>OKC</th>\n",
       "      <td>60.0</td>\n",
       "      <td>54774368</td>\n",
       "      <td>4036</td>\n",
       "      <td>4034</td>\n",
       "    </tr>\n",
       "    <tr>\n",
       "      <th>SAS</th>\n",
       "      <td>64.0</td>\n",
       "      <td>21368625</td>\n",
       "      <td>4036</td>\n",
       "      <td>4034</td>\n",
       "    </tr>\n",
       "  </tbody>\n",
       "</table>\n",
       "</div>"
      ],
      "text/plain": [
       "       Age    salary  season_end  season_start\n",
       "team                                          \n",
       "CLE   32.0  33285709        2018          2017\n",
       "DEN   31.0  31269231        2018          2017\n",
       "GSW   82.0  77508700        6054          6051\n",
       "LAC   27.0  29512900        2018          2017\n",
       "OKC   60.0  54774368        4036          4034\n",
       "SAS   64.0  21368625        4036          4034"
      ]
     },
     "execution_count": 19,
     "metadata": {},
     "output_type": "execute_result"
    }
   ],
   "source": [
    "players.groupby([players['team']]).aggregate(np.sum) # pretening sum is not apart of pandas"
   ]
  },
  {
   "cell_type": "markdown",
   "metadata": {},
   "source": [
    "As you can see, `aggregate` is running the function in every column, even in those that don't make sense (like `season_end` or `season_start`). We can, of course, select the columns to use beforehand:"
   ]
  },
  {
   "cell_type": "code",
   "execution_count": 20,
   "metadata": {},
   "outputs": [
    {
     "data": {
      "text/html": [
       "<div>\n",
       "<style scoped>\n",
       "    .dataframe tbody tr th:only-of-type {\n",
       "        vertical-align: middle;\n",
       "    }\n",
       "\n",
       "    .dataframe tbody tr th {\n",
       "        vertical-align: top;\n",
       "    }\n",
       "\n",
       "    .dataframe thead th {\n",
       "        text-align: right;\n",
       "    }\n",
       "</style>\n",
       "<table border=\"1\" class=\"dataframe\">\n",
       "  <thead>\n",
       "    <tr style=\"text-align: right;\">\n",
       "      <th></th>\n",
       "      <th>salary</th>\n",
       "      <th>Age</th>\n",
       "    </tr>\n",
       "    <tr>\n",
       "      <th>team</th>\n",
       "      <th></th>\n",
       "      <th></th>\n",
       "    </tr>\n",
       "  </thead>\n",
       "  <tbody>\n",
       "    <tr>\n",
       "      <th>CLE</th>\n",
       "      <td>33285709</td>\n",
       "      <td>32.0</td>\n",
       "    </tr>\n",
       "    <tr>\n",
       "      <th>DEN</th>\n",
       "      <td>31269231</td>\n",
       "      <td>31.0</td>\n",
       "    </tr>\n",
       "    <tr>\n",
       "      <th>GSW</th>\n",
       "      <td>34682550</td>\n",
       "      <td>28.0</td>\n",
       "    </tr>\n",
       "    <tr>\n",
       "      <th>LAC</th>\n",
       "      <td>29512900</td>\n",
       "      <td>27.0</td>\n",
       "    </tr>\n",
       "    <tr>\n",
       "      <th>OKC</th>\n",
       "      <td>28530608</td>\n",
       "      <td>32.0</td>\n",
       "    </tr>\n",
       "    <tr>\n",
       "      <th>SAS</th>\n",
       "      <td>18868625</td>\n",
       "      <td>39.0</td>\n",
       "    </tr>\n",
       "  </tbody>\n",
       "</table>\n",
       "</div>"
      ],
      "text/plain": [
       "        salary   Age\n",
       "team                \n",
       "CLE   33285709  32.0\n",
       "DEN   31269231  31.0\n",
       "GSW   34682550  28.0\n",
       "LAC   29512900  27.0\n",
       "OKC   28530608  32.0\n",
       "SAS   18868625  39.0"
      ]
     },
     "execution_count": 20,
     "metadata": {},
     "output_type": "execute_result"
    }
   ],
   "source": [
    "players[['salary', 'Age']].groupby([players['team']]).aggregate(np.max)"
   ]
  },
  {
   "cell_type": "markdown",
   "metadata": {},
   "source": [
    "Or..."
   ]
  },
  {
   "cell_type": "code",
   "execution_count": 21,
   "metadata": {},
   "outputs": [
    {
     "data": {
      "text/html": [
       "<div>\n",
       "<style scoped>\n",
       "    .dataframe tbody tr th:only-of-type {\n",
       "        vertical-align: middle;\n",
       "    }\n",
       "\n",
       "    .dataframe tbody tr th {\n",
       "        vertical-align: top;\n",
       "    }\n",
       "\n",
       "    .dataframe thead th {\n",
       "        text-align: right;\n",
       "    }\n",
       "</style>\n",
       "<table border=\"1\" class=\"dataframe\">\n",
       "  <thead>\n",
       "    <tr style=\"text-align: right;\">\n",
       "      <th></th>\n",
       "      <th>salary</th>\n",
       "      <th>Age</th>\n",
       "    </tr>\n",
       "    <tr>\n",
       "      <th>team</th>\n",
       "      <th></th>\n",
       "      <th></th>\n",
       "    </tr>\n",
       "  </thead>\n",
       "  <tbody>\n",
       "    <tr>\n",
       "      <th>CLE</th>\n",
       "      <td>33285709</td>\n",
       "      <td>32.0</td>\n",
       "    </tr>\n",
       "    <tr>\n",
       "      <th>DEN</th>\n",
       "      <td>31269231</td>\n",
       "      <td>31.0</td>\n",
       "    </tr>\n",
       "    <tr>\n",
       "      <th>GSW</th>\n",
       "      <td>34682550</td>\n",
       "      <td>28.0</td>\n",
       "    </tr>\n",
       "    <tr>\n",
       "      <th>LAC</th>\n",
       "      <td>29512900</td>\n",
       "      <td>27.0</td>\n",
       "    </tr>\n",
       "    <tr>\n",
       "      <th>OKC</th>\n",
       "      <td>28530608</td>\n",
       "      <td>32.0</td>\n",
       "    </tr>\n",
       "    <tr>\n",
       "      <th>SAS</th>\n",
       "      <td>18868625</td>\n",
       "      <td>39.0</td>\n",
       "    </tr>\n",
       "  </tbody>\n",
       "</table>\n",
       "</div>"
      ],
      "text/plain": [
       "        salary   Age\n",
       "team                \n",
       "CLE   33285709  32.0\n",
       "DEN   31269231  31.0\n",
       "GSW   34682550  28.0\n",
       "LAC   29512900  27.0\n",
       "OKC   28530608  32.0\n",
       "SAS   18868625  39.0"
      ]
     },
     "execution_count": 21,
     "metadata": {},
     "output_type": "execute_result"
    }
   ],
   "source": [
    "players.groupby([players['team']])[['salary', 'Age']].aggregate(np.max)"
   ]
  },
  {
   "cell_type": "markdown",
   "metadata": {},
   "source": [
    "**`aggregate` and multiple parameters:**\n",
    "\n",
    "Grouping by multiple parameters also works with `aggregate`:"
   ]
  },
  {
   "cell_type": "code",
   "execution_count": 22,
   "metadata": {},
   "outputs": [
    {
     "data": {
      "text/html": [
       "<div>\n",
       "<style scoped>\n",
       "    .dataframe tbody tr th:only-of-type {\n",
       "        vertical-align: middle;\n",
       "    }\n",
       "\n",
       "    .dataframe tbody tr th {\n",
       "        vertical-align: top;\n",
       "    }\n",
       "\n",
       "    .dataframe thead th {\n",
       "        text-align: right;\n",
       "    }\n",
       "</style>\n",
       "<table border=\"1\" class=\"dataframe\">\n",
       "  <thead>\n",
       "    <tr style=\"text-align: right;\">\n",
       "      <th></th>\n",
       "      <th></th>\n",
       "      <th>salary</th>\n",
       "      <th>Age</th>\n",
       "    </tr>\n",
       "    <tr>\n",
       "      <th>team</th>\n",
       "      <th>Pos</th>\n",
       "      <th></th>\n",
       "      <th></th>\n",
       "    </tr>\n",
       "  </thead>\n",
       "  <tbody>\n",
       "    <tr>\n",
       "      <th>CLE</th>\n",
       "      <th>SF</th>\n",
       "      <td>33285709</td>\n",
       "      <td>32.0</td>\n",
       "    </tr>\n",
       "    <tr>\n",
       "      <th>DEN</th>\n",
       "      <th>PF</th>\n",
       "      <td>31269231</td>\n",
       "      <td>31.0</td>\n",
       "    </tr>\n",
       "    <tr>\n",
       "      <th rowspan=\"3\" valign=\"top\">GSW</th>\n",
       "      <th>PF</th>\n",
       "      <td>25000000</td>\n",
       "      <td>28.0</td>\n",
       "    </tr>\n",
       "    <tr>\n",
       "      <th>PG</th>\n",
       "      <td>34682550</td>\n",
       "      <td>28.0</td>\n",
       "    </tr>\n",
       "    <tr>\n",
       "      <th>SG</th>\n",
       "      <td>17826150</td>\n",
       "      <td>26.0</td>\n",
       "    </tr>\n",
       "    <tr>\n",
       "      <th>LAC</th>\n",
       "      <th>PF</th>\n",
       "      <td>29512900</td>\n",
       "      <td>27.0</td>\n",
       "    </tr>\n",
       "    <tr>\n",
       "      <th rowspan=\"2\" valign=\"top\">OKC</th>\n",
       "      <th>PG</th>\n",
       "      <td>28530608</td>\n",
       "      <td>28.0</td>\n",
       "    </tr>\n",
       "    <tr>\n",
       "      <th>SF</th>\n",
       "      <td>26243760</td>\n",
       "      <td>32.0</td>\n",
       "    </tr>\n",
       "    <tr>\n",
       "      <th rowspan=\"2\" valign=\"top\">SAS</th>\n",
       "      <th>SF</th>\n",
       "      <td>18868625</td>\n",
       "      <td>25.0</td>\n",
       "    </tr>\n",
       "    <tr>\n",
       "      <th>SG</th>\n",
       "      <td>2500000</td>\n",
       "      <td>39.0</td>\n",
       "    </tr>\n",
       "  </tbody>\n",
       "</table>\n",
       "</div>"
      ],
      "text/plain": [
       "            salary   Age\n",
       "team Pos                \n",
       "CLE  SF   33285709  32.0\n",
       "DEN  PF   31269231  31.0\n",
       "GSW  PF   25000000  28.0\n",
       "     PG   34682550  28.0\n",
       "     SG   17826150  26.0\n",
       "LAC  PF   29512900  27.0\n",
       "OKC  PG   28530608  28.0\n",
       "     SF   26243760  32.0\n",
       "SAS  SF   18868625  25.0\n",
       "     SG    2500000  39.0"
      ]
     },
     "execution_count": 22,
     "metadata": {},
     "output_type": "execute_result"
    }
   ],
   "source": [
    "players[['salary', 'Age']].groupby([players['team'], players['Pos']]).aggregate(np.max)"
   ]
  },
  {
   "cell_type": "markdown",
   "metadata": {},
   "source": [
    "**Multiple functions:**\n",
    "\n",
    "`aggregate` can also take multiple functions to apply to the groups:"
   ]
  },
  {
   "cell_type": "code",
   "execution_count": 23,
   "metadata": {},
   "outputs": [],
   "source": [
    "def range_max_min(values):\n",
    "    return values.max() - values.min()"
   ]
  },
  {
   "cell_type": "code",
   "execution_count": 24,
   "metadata": {
    "scrolled": true
   },
   "outputs": [
    {
     "data": {
      "text/html": [
       "<div>\n",
       "<style scoped>\n",
       "    .dataframe tbody tr th:only-of-type {\n",
       "        vertical-align: middle;\n",
       "    }\n",
       "\n",
       "    .dataframe tbody tr th {\n",
       "        vertical-align: top;\n",
       "    }\n",
       "\n",
       "    .dataframe thead tr th {\n",
       "        text-align: left;\n",
       "    }\n",
       "\n",
       "    .dataframe thead tr:last-of-type th {\n",
       "        text-align: right;\n",
       "    }\n",
       "</style>\n",
       "<table border=\"1\" class=\"dataframe\">\n",
       "  <thead>\n",
       "    <tr>\n",
       "      <th></th>\n",
       "      <th colspan=\"3\" halign=\"left\">salary</th>\n",
       "      <th colspan=\"3\" halign=\"left\">Age</th>\n",
       "    </tr>\n",
       "    <tr>\n",
       "      <th></th>\n",
       "      <th>amax</th>\n",
       "      <th>amin</th>\n",
       "      <th>range_max_min</th>\n",
       "      <th>amax</th>\n",
       "      <th>amin</th>\n",
       "      <th>range_max_min</th>\n",
       "    </tr>\n",
       "    <tr>\n",
       "      <th>team</th>\n",
       "      <th></th>\n",
       "      <th></th>\n",
       "      <th></th>\n",
       "      <th></th>\n",
       "      <th></th>\n",
       "      <th></th>\n",
       "    </tr>\n",
       "  </thead>\n",
       "  <tbody>\n",
       "    <tr>\n",
       "      <th>CLE</th>\n",
       "      <td>33285709</td>\n",
       "      <td>33285709</td>\n",
       "      <td>0</td>\n",
       "      <td>32.0</td>\n",
       "      <td>32.0</td>\n",
       "      <td>0.0</td>\n",
       "    </tr>\n",
       "    <tr>\n",
       "      <th>DEN</th>\n",
       "      <td>31269231</td>\n",
       "      <td>31269231</td>\n",
       "      <td>0</td>\n",
       "      <td>31.0</td>\n",
       "      <td>31.0</td>\n",
       "      <td>0.0</td>\n",
       "    </tr>\n",
       "    <tr>\n",
       "      <th>GSW</th>\n",
       "      <td>34682550</td>\n",
       "      <td>17826150</td>\n",
       "      <td>16856400</td>\n",
       "      <td>28.0</td>\n",
       "      <td>26.0</td>\n",
       "      <td>2.0</td>\n",
       "    </tr>\n",
       "    <tr>\n",
       "      <th>LAC</th>\n",
       "      <td>29512900</td>\n",
       "      <td>29512900</td>\n",
       "      <td>0</td>\n",
       "      <td>27.0</td>\n",
       "      <td>27.0</td>\n",
       "      <td>0.0</td>\n",
       "    </tr>\n",
       "    <tr>\n",
       "      <th>OKC</th>\n",
       "      <td>28530608</td>\n",
       "      <td>26243760</td>\n",
       "      <td>2286848</td>\n",
       "      <td>32.0</td>\n",
       "      <td>28.0</td>\n",
       "      <td>4.0</td>\n",
       "    </tr>\n",
       "    <tr>\n",
       "      <th>SAS</th>\n",
       "      <td>18868625</td>\n",
       "      <td>2500000</td>\n",
       "      <td>16368625</td>\n",
       "      <td>39.0</td>\n",
       "      <td>25.0</td>\n",
       "      <td>14.0</td>\n",
       "    </tr>\n",
       "  </tbody>\n",
       "</table>\n",
       "</div>"
      ],
      "text/plain": [
       "        salary                           Age                    \n",
       "          amax      amin range_max_min  amax  amin range_max_min\n",
       "team                                                            \n",
       "CLE   33285709  33285709             0  32.0  32.0           0.0\n",
       "DEN   31269231  31269231             0  31.0  31.0           0.0\n",
       "GSW   34682550  17826150      16856400  28.0  26.0           2.0\n",
       "LAC   29512900  29512900             0  27.0  27.0           0.0\n",
       "OKC   28530608  26243760       2286848  32.0  28.0           4.0\n",
       "SAS   18868625   2500000      16368625  39.0  25.0          14.0"
      ]
     },
     "execution_count": 24,
     "metadata": {},
     "output_type": "execute_result"
    }
   ],
   "source": [
    "players[['salary', 'Age']].groupby([players['team']]).aggregate([np.max, np.min, range_max_min])"
   ]
  },
  {
   "cell_type": "markdown",
   "metadata": {},
   "source": [
    "**Dict of operations**\n",
    "\n",
    "You can also pass to `aggregate` a dictionary containing different operations to perform, based on the column:"
   ]
  },
  {
   "cell_type": "code",
   "execution_count": 41,
   "metadata": {},
   "outputs": [
    {
     "data": {
      "text/html": [
       "<div>\n",
       "<style scoped>\n",
       "    .dataframe tbody tr th:only-of-type {\n",
       "        vertical-align: middle;\n",
       "    }\n",
       "\n",
       "    .dataframe tbody tr th {\n",
       "        vertical-align: top;\n",
       "    }\n",
       "\n",
       "    .dataframe thead th {\n",
       "        text-align: right;\n",
       "    }\n",
       "</style>\n",
       "<table border=\"1\" class=\"dataframe\">\n",
       "  <thead>\n",
       "    <tr style=\"text-align: right;\">\n",
       "      <th></th>\n",
       "      <th>salary</th>\n",
       "      <th>Age</th>\n",
       "    </tr>\n",
       "    <tr>\n",
       "      <th>team</th>\n",
       "      <th></th>\n",
       "      <th></th>\n",
       "    </tr>\n",
       "  </thead>\n",
       "  <tbody>\n",
       "    <tr>\n",
       "      <th>CLE</th>\n",
       "      <td>33285709</td>\n",
       "      <td>32.000000</td>\n",
       "    </tr>\n",
       "    <tr>\n",
       "      <th>DEN</th>\n",
       "      <td>31269231</td>\n",
       "      <td>31.000000</td>\n",
       "    </tr>\n",
       "    <tr>\n",
       "      <th>GSW</th>\n",
       "      <td>34682550</td>\n",
       "      <td>27.333333</td>\n",
       "    </tr>\n",
       "    <tr>\n",
       "      <th>LAC</th>\n",
       "      <td>29512900</td>\n",
       "      <td>27.000000</td>\n",
       "    </tr>\n",
       "    <tr>\n",
       "      <th>OKC</th>\n",
       "      <td>28530608</td>\n",
       "      <td>30.000000</td>\n",
       "    </tr>\n",
       "    <tr>\n",
       "      <th>SAS</th>\n",
       "      <td>18868625</td>\n",
       "      <td>32.000000</td>\n",
       "    </tr>\n",
       "  </tbody>\n",
       "</table>\n",
       "</div>"
      ],
      "text/plain": [
       "        salary        Age\n",
       "team                     \n",
       "CLE   33285709  32.000000\n",
       "DEN   31269231  31.000000\n",
       "GSW   34682550  27.333333\n",
       "LAC   29512900  27.000000\n",
       "OKC   28530608  30.000000\n",
       "SAS   18868625  32.000000"
      ]
     },
     "execution_count": 41,
     "metadata": {},
     "output_type": "execute_result"
    }
   ],
   "source": [
    "players[['salary', 'Age']].groupby([players['team']]).aggregate({\n",
    "    'salary': np.max,\n",
    "    'Age': np.mean\n",
    "})"
   ]
  },
  {
   "cell_type": "markdown",
   "metadata": {},
   "source": [
    "![separator1](https://user-images.githubusercontent.com/7065401/39119545-6d73d9aa-46ec-11e8-98d3-40204614f000.png)\n",
    "\n",
    "### `GroupBy.apply`\n",
    "\n",
    "`apply` is also a method available to run custom operations on your groups. It's similar to `aggregate`, so we usually recommend the later one over `apply`:"
   ]
  },
  {
   "cell_type": "code",
   "execution_count": 26,
   "metadata": {},
   "outputs": [
    {
     "data": {
      "text/plain": [
       "team\n",
       "CLE    33285709\n",
       "DEN    31269231\n",
       "GSW    34682550\n",
       "LAC    29512900\n",
       "OKC    28530608\n",
       "SAS    18868625\n",
       "Name: salary, dtype: int64"
      ]
     },
     "execution_count": 26,
     "metadata": {},
     "output_type": "execute_result"
    }
   ],
   "source": [
    "players['salary'].groupby([players['team']]).apply(np.max)"
   ]
  },
  {
   "cell_type": "code",
   "execution_count": 27,
   "metadata": {
    "scrolled": true
   },
   "outputs": [
    {
     "data": {
      "text/plain": [
       "team\n",
       "CLE           0\n",
       "DEN           0\n",
       "GSW    16856400\n",
       "LAC           0\n",
       "OKC     2286848\n",
       "SAS    16368625\n",
       "Name: salary, dtype: int64"
      ]
     },
     "execution_count": 27,
     "metadata": {},
     "output_type": "execute_result"
    }
   ],
   "source": [
    "players['salary'].groupby([players['team']]).apply(lambda x: x.max() - x.min())"
   ]
  },
  {
   "cell_type": "markdown",
   "metadata": {},
   "source": [
    "![separator1](https://user-images.githubusercontent.com/7065401/39119545-6d73d9aa-46ec-11e8-98d3-40204614f000.png)\n",
    "\n",
    "### More examples using the whole data\n",
    "\n",
    "Now we'll use the complete dataset and try more grouping and aggregations"
   ]
  },
  {
   "cell_type": "code",
   "execution_count": 28,
   "metadata": {},
   "outputs": [],
   "source": [
    "df = pd.read_csv('data/nba_2017_cleaned.csv', index_col=1, dtype={\n",
    "    'Tm': 'category',\n",
    "    'Pos': 'category'\n",
    "})"
   ]
  },
  {
   "cell_type": "code",
   "execution_count": 29,
   "metadata": {
    "scrolled": true
   },
   "outputs": [
    {
     "data": {
      "text/html": [
       "<div>\n",
       "<style scoped>\n",
       "    .dataframe tbody tr th:only-of-type {\n",
       "        vertical-align: middle;\n",
       "    }\n",
       "\n",
       "    .dataframe tbody tr th {\n",
       "        vertical-align: top;\n",
       "    }\n",
       "\n",
       "    .dataframe thead th {\n",
       "        text-align: right;\n",
       "    }\n",
       "</style>\n",
       "<table border=\"1\" class=\"dataframe\">\n",
       "  <thead>\n",
       "    <tr style=\"text-align: right;\">\n",
       "      <th></th>\n",
       "      <th>Tm</th>\n",
       "      <th>Rk</th>\n",
       "      <th>Pos</th>\n",
       "      <th>Age</th>\n",
       "      <th>G</th>\n",
       "      <th>GS</th>\n",
       "      <th>MP</th>\n",
       "      <th>FG</th>\n",
       "      <th>FGA</th>\n",
       "      <th>FG%</th>\n",
       "      <th>...</th>\n",
       "      <th>FT%</th>\n",
       "      <th>ORB</th>\n",
       "      <th>DRB</th>\n",
       "      <th>TRB</th>\n",
       "      <th>AST</th>\n",
       "      <th>STL</th>\n",
       "      <th>BLK</th>\n",
       "      <th>TOV</th>\n",
       "      <th>PF</th>\n",
       "      <th>PTS</th>\n",
       "    </tr>\n",
       "    <tr>\n",
       "      <th>Player</th>\n",
       "      <th></th>\n",
       "      <th></th>\n",
       "      <th></th>\n",
       "      <th></th>\n",
       "      <th></th>\n",
       "      <th></th>\n",
       "      <th></th>\n",
       "      <th></th>\n",
       "      <th></th>\n",
       "      <th></th>\n",
       "      <th></th>\n",
       "      <th></th>\n",
       "      <th></th>\n",
       "      <th></th>\n",
       "      <th></th>\n",
       "      <th></th>\n",
       "      <th></th>\n",
       "      <th></th>\n",
       "      <th></th>\n",
       "      <th></th>\n",
       "      <th></th>\n",
       "    </tr>\n",
       "  </thead>\n",
       "  <tbody>\n",
       "    <tr>\n",
       "      <th>DeAndre' Bembry</th>\n",
       "      <td>ATL</td>\n",
       "      <td>40</td>\n",
       "      <td>SF</td>\n",
       "      <td>22</td>\n",
       "      <td>38</td>\n",
       "      <td>1</td>\n",
       "      <td>371</td>\n",
       "      <td>47</td>\n",
       "      <td>98</td>\n",
       "      <td>0.480</td>\n",
       "      <td>...</td>\n",
       "      <td>0.375</td>\n",
       "      <td>14</td>\n",
       "      <td>45</td>\n",
       "      <td>59</td>\n",
       "      <td>28</td>\n",
       "      <td>8</td>\n",
       "      <td>5</td>\n",
       "      <td>16</td>\n",
       "      <td>21</td>\n",
       "      <td>101</td>\n",
       "    </tr>\n",
       "    <tr>\n",
       "      <th>Dennis Schroder</th>\n",
       "      <td>ATL</td>\n",
       "      <td>394</td>\n",
       "      <td>PG</td>\n",
       "      <td>23</td>\n",
       "      <td>79</td>\n",
       "      <td>78</td>\n",
       "      <td>2485</td>\n",
       "      <td>548</td>\n",
       "      <td>1214</td>\n",
       "      <td>0.451</td>\n",
       "      <td>...</td>\n",
       "      <td>0.855</td>\n",
       "      <td>42</td>\n",
       "      <td>206</td>\n",
       "      <td>248</td>\n",
       "      <td>499</td>\n",
       "      <td>74</td>\n",
       "      <td>16</td>\n",
       "      <td>258</td>\n",
       "      <td>149</td>\n",
       "      <td>1414</td>\n",
       "    </tr>\n",
       "    <tr>\n",
       "      <th>Dwight Howard</th>\n",
       "      <td>ATL</td>\n",
       "      <td>205</td>\n",
       "      <td>C</td>\n",
       "      <td>31</td>\n",
       "      <td>74</td>\n",
       "      <td>74</td>\n",
       "      <td>2199</td>\n",
       "      <td>388</td>\n",
       "      <td>613</td>\n",
       "      <td>0.633</td>\n",
       "      <td>...</td>\n",
       "      <td>0.533</td>\n",
       "      <td>296</td>\n",
       "      <td>644</td>\n",
       "      <td>940</td>\n",
       "      <td>104</td>\n",
       "      <td>64</td>\n",
       "      <td>92</td>\n",
       "      <td>170</td>\n",
       "      <td>203</td>\n",
       "      <td>1002</td>\n",
       "    </tr>\n",
       "    <tr>\n",
       "      <th>Edy Tavares</th>\n",
       "      <td>ATL</td>\n",
       "      <td>418</td>\n",
       "      <td>C</td>\n",
       "      <td>24</td>\n",
       "      <td>1</td>\n",
       "      <td>0</td>\n",
       "      <td>4</td>\n",
       "      <td>1</td>\n",
       "      <td>1</td>\n",
       "      <td>1.000</td>\n",
       "      <td>...</td>\n",
       "      <td>0.000</td>\n",
       "      <td>0</td>\n",
       "      <td>1</td>\n",
       "      <td>1</td>\n",
       "      <td>0</td>\n",
       "      <td>0</td>\n",
       "      <td>0</td>\n",
       "      <td>0</td>\n",
       "      <td>0</td>\n",
       "      <td>2</td>\n",
       "    </tr>\n",
       "    <tr>\n",
       "      <th>Gary Neal</th>\n",
       "      <td>ATL</td>\n",
       "      <td>323</td>\n",
       "      <td>SG</td>\n",
       "      <td>32</td>\n",
       "      <td>2</td>\n",
       "      <td>0</td>\n",
       "      <td>18</td>\n",
       "      <td>0</td>\n",
       "      <td>7</td>\n",
       "      <td>0.000</td>\n",
       "      <td>...</td>\n",
       "      <td>1.000</td>\n",
       "      <td>0</td>\n",
       "      <td>1</td>\n",
       "      <td>1</td>\n",
       "      <td>1</td>\n",
       "      <td>0</td>\n",
       "      <td>0</td>\n",
       "      <td>0</td>\n",
       "      <td>1</td>\n",
       "      <td>4</td>\n",
       "    </tr>\n",
       "  </tbody>\n",
       "</table>\n",
       "<p>5 rows × 29 columns</p>\n",
       "</div>"
      ],
      "text/plain": [
       "                  Tm   Rk Pos  Age   G  GS    MP   FG   FGA    FG%  ...   \\\n",
       "Player                                                              ...    \n",
       "DeAndre' Bembry  ATL   40  SF   22  38   1   371   47    98  0.480  ...    \n",
       "Dennis Schroder  ATL  394  PG   23  79  78  2485  548  1214  0.451  ...    \n",
       "Dwight Howard    ATL  205   C   31  74  74  2199  388   613  0.633  ...    \n",
       "Edy Tavares      ATL  418   C   24   1   0     4    1     1  1.000  ...    \n",
       "Gary Neal        ATL  323  SG   32   2   0    18    0     7  0.000  ...    \n",
       "\n",
       "                   FT%  ORB  DRB  TRB  AST  STL  BLK  TOV   PF   PTS  \n",
       "Player                                                                \n",
       "DeAndre' Bembry  0.375   14   45   59   28    8    5   16   21   101  \n",
       "Dennis Schroder  0.855   42  206  248  499   74   16  258  149  1414  \n",
       "Dwight Howard    0.533  296  644  940  104   64   92  170  203  1002  \n",
       "Edy Tavares      0.000    0    1    1    0    0    0    0    0     2  \n",
       "Gary Neal        1.000    0    1    1    1    0    0    0    1     4  \n",
       "\n",
       "[5 rows x 29 columns]"
      ]
     },
     "execution_count": 29,
     "metadata": {},
     "output_type": "execute_result"
    }
   ],
   "source": [
    "df.head()"
   ]
  },
  {
   "cell_type": "code",
   "execution_count": 30,
   "metadata": {},
   "outputs": [
    {
     "name": "stdout",
     "output_type": "stream",
     "text": [
      "<class 'pandas.core.frame.DataFrame'>\n",
      "Index: 486 entries, DeAndre' Bembry to Trey Burke\n",
      "Data columns (total 29 columns):\n",
      "Tm      486 non-null category\n",
      "Rk      486 non-null int64\n",
      "Pos     486 non-null category\n",
      "Age     486 non-null int64\n",
      "G       486 non-null int64\n",
      "GS      486 non-null int64\n",
      "MP      486 non-null int64\n",
      "FG      486 non-null int64\n",
      "FGA     486 non-null int64\n",
      "FG%     485 non-null float64\n",
      "3P      486 non-null int64\n",
      "3PA     486 non-null int64\n",
      "3P%     449 non-null float64\n",
      "2P      486 non-null int64\n",
      "2PA     486 non-null int64\n",
      "2P%     483 non-null float64\n",
      "eFG%    485 non-null float64\n",
      "FT      486 non-null int64\n",
      "FTA     486 non-null int64\n",
      "FT%     470 non-null float64\n",
      "ORB     486 non-null int64\n",
      "DRB     486 non-null int64\n",
      "TRB     486 non-null int64\n",
      "AST     486 non-null int64\n",
      "STL     486 non-null int64\n",
      "BLK     486 non-null int64\n",
      "TOV     486 non-null int64\n",
      "PF      486 non-null int64\n",
      "PTS     486 non-null int64\n",
      "dtypes: category(2), float64(5), int64(22)\n",
      "memory usage: 107.7+ KB\n"
     ]
    }
   ],
   "source": [
    "df.info()"
   ]
  },
  {
   "cell_type": "code",
   "execution_count": 31,
   "metadata": {
    "scrolled": true
   },
   "outputs": [
    {
     "data": {
      "text/plain": [
       "Pos\n",
       "C     196.268041\n",
       "PF    163.116505\n",
       "PG    204.577320\n",
       "SF    203.595238\n",
       "SG    192.523810\n",
       "Name: FG, dtype: float64"
      ]
     },
     "execution_count": 31,
     "metadata": {},
     "output_type": "execute_result"
    }
   ],
   "source": [
    "df['FG'].groupby(df['Pos']).mean()"
   ]
  },
  {
   "cell_type": "code",
   "execution_count": 32,
   "metadata": {
    "scrolled": false
   },
   "outputs": [
    {
     "data": {
      "text/html": [
       "<div>\n",
       "<style scoped>\n",
       "    .dataframe tbody tr th:only-of-type {\n",
       "        vertical-align: middle;\n",
       "    }\n",
       "\n",
       "    .dataframe tbody tr th {\n",
       "        vertical-align: top;\n",
       "    }\n",
       "\n",
       "    .dataframe thead th {\n",
       "        text-align: right;\n",
       "    }\n",
       "</style>\n",
       "<table border=\"1\" class=\"dataframe\">\n",
       "  <thead>\n",
       "    <tr style=\"text-align: right;\">\n",
       "      <th></th>\n",
       "      <th>Rk</th>\n",
       "      <th>Age</th>\n",
       "      <th>G</th>\n",
       "      <th>GS</th>\n",
       "      <th>MP</th>\n",
       "      <th>FG</th>\n",
       "      <th>FGA</th>\n",
       "      <th>FG%</th>\n",
       "      <th>3P</th>\n",
       "      <th>3PA</th>\n",
       "      <th>...</th>\n",
       "      <th>FT%</th>\n",
       "      <th>ORB</th>\n",
       "      <th>DRB</th>\n",
       "      <th>TRB</th>\n",
       "      <th>AST</th>\n",
       "      <th>STL</th>\n",
       "      <th>BLK</th>\n",
       "      <th>TOV</th>\n",
       "      <th>PF</th>\n",
       "      <th>PTS</th>\n",
       "    </tr>\n",
       "    <tr>\n",
       "      <th>Pos</th>\n",
       "      <th></th>\n",
       "      <th></th>\n",
       "      <th></th>\n",
       "      <th></th>\n",
       "      <th></th>\n",
       "      <th></th>\n",
       "      <th></th>\n",
       "      <th></th>\n",
       "      <th></th>\n",
       "      <th></th>\n",
       "      <th></th>\n",
       "      <th></th>\n",
       "      <th></th>\n",
       "      <th></th>\n",
       "      <th></th>\n",
       "      <th></th>\n",
       "      <th></th>\n",
       "      <th></th>\n",
       "      <th></th>\n",
       "      <th></th>\n",
       "      <th></th>\n",
       "    </tr>\n",
       "  </thead>\n",
       "  <tbody>\n",
       "    <tr>\n",
       "      <th>C</th>\n",
       "      <td>263.391753</td>\n",
       "      <td>26.257732</td>\n",
       "      <td>52.855670</td>\n",
       "      <td>25.567010</td>\n",
       "      <td>1110.175258</td>\n",
       "      <td>196.268041</td>\n",
       "      <td>370.989691</td>\n",
       "      <td>0.528753</td>\n",
       "      <td>14.886598</td>\n",
       "      <td>42.164948</td>\n",
       "      <td>...</td>\n",
       "      <td>0.666695</td>\n",
       "      <td>100.144330</td>\n",
       "      <td>232.793814</td>\n",
       "      <td>332.938144</td>\n",
       "      <td>67.824742</td>\n",
       "      <td>30.257732</td>\n",
       "      <td>47.298969</td>\n",
       "      <td>62.659794</td>\n",
       "      <td>118.113402</td>\n",
       "      <td>495.247423</td>\n",
       "    </tr>\n",
       "    <tr>\n",
       "      <th>PF</th>\n",
       "      <td>237.368932</td>\n",
       "      <td>26.029126</td>\n",
       "      <td>48.194175</td>\n",
       "      <td>21.378641</td>\n",
       "      <td>1036.718447</td>\n",
       "      <td>163.116505</td>\n",
       "      <td>352.990291</td>\n",
       "      <td>0.443155</td>\n",
       "      <td>34.786408</td>\n",
       "      <td>101.223301</td>\n",
       "      <td>...</td>\n",
       "      <td>0.710949</td>\n",
       "      <td>58.077670</td>\n",
       "      <td>173.563107</td>\n",
       "      <td>231.640777</td>\n",
       "      <td>67.728155</td>\n",
       "      <td>29.058252</td>\n",
       "      <td>24.456311</td>\n",
       "      <td>50.864078</td>\n",
       "      <td>91.300971</td>\n",
       "      <td>427.291262</td>\n",
       "    </tr>\n",
       "    <tr>\n",
       "      <th>PG</th>\n",
       "      <td>253.659794</td>\n",
       "      <td>26.731959</td>\n",
       "      <td>50.876289</td>\n",
       "      <td>24.804124</td>\n",
       "      <td>1207.639175</td>\n",
       "      <td>204.577320</td>\n",
       "      <td>470.309278</td>\n",
       "      <td>0.411289</td>\n",
       "      <td>57.113402</td>\n",
       "      <td>159.010309</td>\n",
       "      <td>...</td>\n",
       "      <td>0.783926</td>\n",
       "      <td>23.814433</td>\n",
       "      <td>121.268041</td>\n",
       "      <td>145.082474</td>\n",
       "      <td>219.298969</td>\n",
       "      <td>45.154639</td>\n",
       "      <td>10.474227</td>\n",
       "      <td>91.257732</td>\n",
       "      <td>88.835052</td>\n",
       "      <td>577.628866</td>\n",
       "    </tr>\n",
       "    <tr>\n",
       "      <th>SF</th>\n",
       "      <td>222.702381</td>\n",
       "      <td>26.976190</td>\n",
       "      <td>55.547619</td>\n",
       "      <td>29.654762</td>\n",
       "      <td>1345.821429</td>\n",
       "      <td>203.595238</td>\n",
       "      <td>456.095238</td>\n",
       "      <td>0.418048</td>\n",
       "      <td>58.166667</td>\n",
       "      <td>166.202381</td>\n",
       "      <td>...</td>\n",
       "      <td>0.760575</td>\n",
       "      <td>43.488095</td>\n",
       "      <td>176.059524</td>\n",
       "      <td>219.547619</td>\n",
       "      <td>98.404762</td>\n",
       "      <td>47.297619</td>\n",
       "      <td>21.750000</td>\n",
       "      <td>61.857143</td>\n",
       "      <td>101.738095</td>\n",
       "      <td>563.035714</td>\n",
       "    </tr>\n",
       "    <tr>\n",
       "      <th>SG</th>\n",
       "      <td>238.390476</td>\n",
       "      <td>26.152381</td>\n",
       "      <td>51.809524</td>\n",
       "      <td>23.257143</td>\n",
       "      <td>1230.266667</td>\n",
       "      <td>192.523810</td>\n",
       "      <td>447.828571</td>\n",
       "      <td>0.395779</td>\n",
       "      <td>69.628571</td>\n",
       "      <td>189.380952</td>\n",
       "      <td>...</td>\n",
       "      <td>0.779755</td>\n",
       "      <td>24.028571</td>\n",
       "      <td>117.123810</td>\n",
       "      <td>141.152381</td>\n",
       "      <td>104.657143</td>\n",
       "      <td>38.780952</td>\n",
       "      <td>12.533333</td>\n",
       "      <td>61.257143</td>\n",
       "      <td>86.904762</td>\n",
       "      <td>533.161905</td>\n",
       "    </tr>\n",
       "  </tbody>\n",
       "</table>\n",
       "<p>5 rows × 27 columns</p>\n",
       "</div>"
      ],
      "text/plain": [
       "             Rk        Age          G         GS           MP          FG  \\\n",
       "Pos                                                                         \n",
       "C    263.391753  26.257732  52.855670  25.567010  1110.175258  196.268041   \n",
       "PF   237.368932  26.029126  48.194175  21.378641  1036.718447  163.116505   \n",
       "PG   253.659794  26.731959  50.876289  24.804124  1207.639175  204.577320   \n",
       "SF   222.702381  26.976190  55.547619  29.654762  1345.821429  203.595238   \n",
       "SG   238.390476  26.152381  51.809524  23.257143  1230.266667  192.523810   \n",
       "\n",
       "            FGA       FG%         3P         3PA     ...           FT%  \\\n",
       "Pos                                                  ...                 \n",
       "C    370.989691  0.528753  14.886598   42.164948     ...      0.666695   \n",
       "PF   352.990291  0.443155  34.786408  101.223301     ...      0.710949   \n",
       "PG   470.309278  0.411289  57.113402  159.010309     ...      0.783926   \n",
       "SF   456.095238  0.418048  58.166667  166.202381     ...      0.760575   \n",
       "SG   447.828571  0.395779  69.628571  189.380952     ...      0.779755   \n",
       "\n",
       "            ORB         DRB         TRB         AST        STL        BLK  \\\n",
       "Pos                                                                         \n",
       "C    100.144330  232.793814  332.938144   67.824742  30.257732  47.298969   \n",
       "PF    58.077670  173.563107  231.640777   67.728155  29.058252  24.456311   \n",
       "PG    23.814433  121.268041  145.082474  219.298969  45.154639  10.474227   \n",
       "SF    43.488095  176.059524  219.547619   98.404762  47.297619  21.750000   \n",
       "SG    24.028571  117.123810  141.152381  104.657143  38.780952  12.533333   \n",
       "\n",
       "           TOV          PF         PTS  \n",
       "Pos                                     \n",
       "C    62.659794  118.113402  495.247423  \n",
       "PF   50.864078   91.300971  427.291262  \n",
       "PG   91.257732   88.835052  577.628866  \n",
       "SF   61.857143  101.738095  563.035714  \n",
       "SG   61.257143   86.904762  533.161905  \n",
       "\n",
       "[5 rows x 27 columns]"
      ]
     },
     "execution_count": 32,
     "metadata": {},
     "output_type": "execute_result"
    }
   ],
   "source": [
    "df.groupby('Pos').mean()"
   ]
  },
  {
   "cell_type": "code",
   "execution_count": null,
   "metadata": {},
   "outputs": [],
   "source": [
    "df"
   ]
  },
  {
   "cell_type": "code",
   "execution_count": 33,
   "metadata": {},
   "outputs": [
    {
     "data": {
      "text/plain": [
       "Pos\n",
       "C      97\n",
       "PF    103\n",
       "PG     97\n",
       "SF     84\n",
       "SG    105\n",
       "Name: FG, dtype: int64"
      ]
     },
     "execution_count": 33,
     "metadata": {},
     "output_type": "execute_result"
    }
   ],
   "source": [
    "df['FG'].groupby(df['Pos']).size()"
   ]
  },
  {
   "cell_type": "code",
   "execution_count": 34,
   "metadata": {
    "scrolled": true
   },
   "outputs": [
    {
     "data": {
      "text/plain": [
       "Pos\n",
       "C      97\n",
       "PF    103\n",
       "PG     97\n",
       "SF     84\n",
       "SG    105\n",
       "dtype: int64"
      ]
     },
     "execution_count": 34,
     "metadata": {},
     "output_type": "execute_result"
    }
   ],
   "source": [
    "df.groupby('Pos').size()"
   ]
  },
  {
   "cell_type": "markdown",
   "metadata": {},
   "source": [
    "We can also pass custom functions:"
   ]
  },
  {
   "cell_type": "code",
   "execution_count": 35,
   "metadata": {
    "scrolled": false
   },
   "outputs": [
    {
     "data": {
      "text/plain": [
       "Pos\n",
       "C     196.268041\n",
       "PF    163.116505\n",
       "PG    204.577320\n",
       "SF    203.595238\n",
       "SG    192.523810\n",
       "Name: FG, dtype: float64"
      ]
     },
     "execution_count": 35,
     "metadata": {},
     "output_type": "execute_result"
    }
   ],
   "source": [
    "df['FG'].groupby(df['Pos']).apply(np.mean)"
   ]
  },
  {
   "cell_type": "markdown",
   "metadata": {},
   "source": [
    "![separator2](https://user-images.githubusercontent.com/7065401/39119518-59fa51ce-46ec-11e8-8503-5f8136558f2b.png)"
   ]
  }
 ],
 "metadata": {
  "kernelspec": {
   "display_name": "Python 3",
   "language": "python",
   "name": "python3"
  },
  "language_info": {
   "codemirror_mode": {
    "name": "ipython",
    "version": 3
   },
   "file_extension": ".py",
   "mimetype": "text/x-python",
   "name": "python",
   "nbconvert_exporter": "python",
   "pygments_lexer": "ipython3",
   "version": "3.6.8"
  }
 },
 "nbformat": 4,
 "nbformat_minor": 2
}
